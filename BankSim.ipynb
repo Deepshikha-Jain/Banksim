{
 "cells": [
  {
   "cell_type": "markdown",
   "metadata": {},
   "source": [
    "## BankSim\n",
    "\n",
    "The objective of this casestudy is to detect the fraud. BankSim is an agent- based simulator of bank payment based on sample of aggregated transactional data provided by a bank in spain.The main purpose of BankSim is the generation of synthetic data that can be used for fraud detection research. \n",
    "URL-https://www.kaggle.com/ntnu-testimon/banksim1"
   ]
  },
  {
   "cell_type": "code",
   "execution_count": 1,
   "metadata": {},
   "outputs": [],
   "source": [
    "import numpy as np\n",
    "import matplotlib.pyplot as plt\n",
    "import pandas as pd \n",
    "import seaborn as sns\n",
    "import warnings\n",
    "warnings.filterwarnings('ignore')\n"
   ]
  },
  {
   "cell_type": "code",
   "execution_count": 2,
   "metadata": {},
   "outputs": [
    {
     "data": {
      "text/html": [
       "<div>\n",
       "<style scoped>\n",
       "    .dataframe tbody tr th:only-of-type {\n",
       "        vertical-align: middle;\n",
       "    }\n",
       "\n",
       "    .dataframe tbody tr th {\n",
       "        vertical-align: top;\n",
       "    }\n",
       "\n",
       "    .dataframe thead th {\n",
       "        text-align: right;\n",
       "    }\n",
       "</style>\n",
       "<table border=\"1\" class=\"dataframe\">\n",
       "  <thead>\n",
       "    <tr style=\"text-align: right;\">\n",
       "      <th></th>\n",
       "      <th>step</th>\n",
       "      <th>customer</th>\n",
       "      <th>age</th>\n",
       "      <th>gender</th>\n",
       "      <th>zipcodeOri</th>\n",
       "      <th>merchant</th>\n",
       "      <th>zipMerchant</th>\n",
       "      <th>category</th>\n",
       "      <th>amount</th>\n",
       "      <th>fraud</th>\n",
       "    </tr>\n",
       "  </thead>\n",
       "  <tbody>\n",
       "    <tr>\n",
       "      <th>0</th>\n",
       "      <td>0</td>\n",
       "      <td>'C1093826151'</td>\n",
       "      <td>'4'</td>\n",
       "      <td>'M'</td>\n",
       "      <td>'28007'</td>\n",
       "      <td>'M348934600'</td>\n",
       "      <td>'28007'</td>\n",
       "      <td>'es_transportation'</td>\n",
       "      <td>4.55</td>\n",
       "      <td>0</td>\n",
       "    </tr>\n",
       "    <tr>\n",
       "      <th>1</th>\n",
       "      <td>0</td>\n",
       "      <td>'C352968107'</td>\n",
       "      <td>'2'</td>\n",
       "      <td>'M'</td>\n",
       "      <td>'28007'</td>\n",
       "      <td>'M348934600'</td>\n",
       "      <td>'28007'</td>\n",
       "      <td>'es_transportation'</td>\n",
       "      <td>39.68</td>\n",
       "      <td>0</td>\n",
       "    </tr>\n",
       "    <tr>\n",
       "      <th>2</th>\n",
       "      <td>0</td>\n",
       "      <td>'C2054744914'</td>\n",
       "      <td>'4'</td>\n",
       "      <td>'F'</td>\n",
       "      <td>'28007'</td>\n",
       "      <td>'M1823072687'</td>\n",
       "      <td>'28007'</td>\n",
       "      <td>'es_transportation'</td>\n",
       "      <td>26.89</td>\n",
       "      <td>0</td>\n",
       "    </tr>\n",
       "    <tr>\n",
       "      <th>3</th>\n",
       "      <td>0</td>\n",
       "      <td>'C1760612790'</td>\n",
       "      <td>'3'</td>\n",
       "      <td>'M'</td>\n",
       "      <td>'28007'</td>\n",
       "      <td>'M348934600'</td>\n",
       "      <td>'28007'</td>\n",
       "      <td>'es_transportation'</td>\n",
       "      <td>17.25</td>\n",
       "      <td>0</td>\n",
       "    </tr>\n",
       "    <tr>\n",
       "      <th>4</th>\n",
       "      <td>0</td>\n",
       "      <td>'C757503768'</td>\n",
       "      <td>'5'</td>\n",
       "      <td>'M'</td>\n",
       "      <td>'28007'</td>\n",
       "      <td>'M348934600'</td>\n",
       "      <td>'28007'</td>\n",
       "      <td>'es_transportation'</td>\n",
       "      <td>35.72</td>\n",
       "      <td>0</td>\n",
       "    </tr>\n",
       "  </tbody>\n",
       "</table>\n",
       "</div>"
      ],
      "text/plain": [
       "   step       customer  age gender zipcodeOri       merchant zipMerchant  \\\n",
       "0     0  'C1093826151'  '4'    'M'    '28007'   'M348934600'     '28007'   \n",
       "1     0   'C352968107'  '2'    'M'    '28007'   'M348934600'     '28007'   \n",
       "2     0  'C2054744914'  '4'    'F'    '28007'  'M1823072687'     '28007'   \n",
       "3     0  'C1760612790'  '3'    'M'    '28007'   'M348934600'     '28007'   \n",
       "4     0   'C757503768'  '5'    'M'    '28007'   'M348934600'     '28007'   \n",
       "\n",
       "              category  amount  fraud  \n",
       "0  'es_transportation'    4.55      0  \n",
       "1  'es_transportation'   39.68      0  \n",
       "2  'es_transportation'   26.89      0  \n",
       "3  'es_transportation'   17.25      0  \n",
       "4  'es_transportation'   35.72      0  "
      ]
     },
     "execution_count": 2,
     "metadata": {},
     "output_type": "execute_result"
    }
   ],
   "source": [
    "BankSim_df=pd.read_csv('C://Users//Ankur//Downloads//CaseStudy_Bank_sim//bs140513_032310.csv')\n",
    "BankSim_df.head()"
   ]
  },
  {
   "cell_type": "code",
   "execution_count": 3,
   "metadata": {},
   "outputs": [
    {
     "data": {
      "text/plain": [
       "(594643, 10)"
      ]
     },
     "execution_count": 3,
     "metadata": {},
     "output_type": "execute_result"
    }
   ],
   "source": [
    "BankSim_df.shape"
   ]
  },
  {
   "cell_type": "code",
   "execution_count": 4,
   "metadata": {},
   "outputs": [
    {
     "name": "stdout",
     "output_type": "stream",
     "text": [
      "<class 'pandas.core.frame.DataFrame'>\n",
      "RangeIndex: 594643 entries, 0 to 594642\n",
      "Data columns (total 10 columns):\n",
      " #   Column       Non-Null Count   Dtype  \n",
      "---  ------       --------------   -----  \n",
      " 0   step         594643 non-null  int64  \n",
      " 1   customer     594643 non-null  object \n",
      " 2   age          594643 non-null  object \n",
      " 3   gender       594643 non-null  object \n",
      " 4   zipcodeOri   594643 non-null  object \n",
      " 5   merchant     594643 non-null  object \n",
      " 6   zipMerchant  594643 non-null  object \n",
      " 7   category     594643 non-null  object \n",
      " 8   amount       594643 non-null  float64\n",
      " 9   fraud        594643 non-null  int64  \n",
      "dtypes: float64(1), int64(2), object(7)\n",
      "memory usage: 45.4+ MB\n"
     ]
    }
   ],
   "source": [
    "BankSim_df.info()"
   ]
  },
  {
   "cell_type": "markdown",
   "metadata": {},
   "source": [
    "#### No Missing value is present in Dataset"
   ]
  },
  {
   "cell_type": "code",
   "execution_count": 5,
   "metadata": {},
   "outputs": [
    {
     "data": {
      "text/html": [
       "<div>\n",
       "<style scoped>\n",
       "    .dataframe tbody tr th:only-of-type {\n",
       "        vertical-align: middle;\n",
       "    }\n",
       "\n",
       "    .dataframe tbody tr th {\n",
       "        vertical-align: top;\n",
       "    }\n",
       "\n",
       "    .dataframe thead th {\n",
       "        text-align: right;\n",
       "    }\n",
       "</style>\n",
       "<table border=\"1\" class=\"dataframe\">\n",
       "  <thead>\n",
       "    <tr style=\"text-align: right;\">\n",
       "      <th></th>\n",
       "      <th>step</th>\n",
       "      <th>customer</th>\n",
       "      <th>age</th>\n",
       "      <th>gender</th>\n",
       "      <th>zipcodeOri</th>\n",
       "      <th>merchant</th>\n",
       "      <th>zipMerchant</th>\n",
       "      <th>category</th>\n",
       "      <th>amount</th>\n",
       "      <th>fraud</th>\n",
       "    </tr>\n",
       "  </thead>\n",
       "  <tbody>\n",
       "    <tr>\n",
       "      <th>count</th>\n",
       "      <td>594643.000000</td>\n",
       "      <td>594643</td>\n",
       "      <td>594643</td>\n",
       "      <td>594643</td>\n",
       "      <td>594643</td>\n",
       "      <td>594643</td>\n",
       "      <td>594643</td>\n",
       "      <td>594643</td>\n",
       "      <td>594643.000000</td>\n",
       "      <td>594643.000000</td>\n",
       "    </tr>\n",
       "    <tr>\n",
       "      <th>unique</th>\n",
       "      <td>NaN</td>\n",
       "      <td>4112</td>\n",
       "      <td>8</td>\n",
       "      <td>4</td>\n",
       "      <td>1</td>\n",
       "      <td>50</td>\n",
       "      <td>1</td>\n",
       "      <td>15</td>\n",
       "      <td>NaN</td>\n",
       "      <td>NaN</td>\n",
       "    </tr>\n",
       "    <tr>\n",
       "      <th>top</th>\n",
       "      <td>NaN</td>\n",
       "      <td>'C1978250683'</td>\n",
       "      <td>'2'</td>\n",
       "      <td>'F'</td>\n",
       "      <td>'28007'</td>\n",
       "      <td>'M1823072687'</td>\n",
       "      <td>'28007'</td>\n",
       "      <td>'es_transportation'</td>\n",
       "      <td>NaN</td>\n",
       "      <td>NaN</td>\n",
       "    </tr>\n",
       "    <tr>\n",
       "      <th>freq</th>\n",
       "      <td>NaN</td>\n",
       "      <td>265</td>\n",
       "      <td>187310</td>\n",
       "      <td>324565</td>\n",
       "      <td>594643</td>\n",
       "      <td>299693</td>\n",
       "      <td>594643</td>\n",
       "      <td>505119</td>\n",
       "      <td>NaN</td>\n",
       "      <td>NaN</td>\n",
       "    </tr>\n",
       "    <tr>\n",
       "      <th>mean</th>\n",
       "      <td>94.986827</td>\n",
       "      <td>NaN</td>\n",
       "      <td>NaN</td>\n",
       "      <td>NaN</td>\n",
       "      <td>NaN</td>\n",
       "      <td>NaN</td>\n",
       "      <td>NaN</td>\n",
       "      <td>NaN</td>\n",
       "      <td>37.890135</td>\n",
       "      <td>0.012108</td>\n",
       "    </tr>\n",
       "    <tr>\n",
       "      <th>std</th>\n",
       "      <td>51.053632</td>\n",
       "      <td>NaN</td>\n",
       "      <td>NaN</td>\n",
       "      <td>NaN</td>\n",
       "      <td>NaN</td>\n",
       "      <td>NaN</td>\n",
       "      <td>NaN</td>\n",
       "      <td>NaN</td>\n",
       "      <td>111.402831</td>\n",
       "      <td>0.109369</td>\n",
       "    </tr>\n",
       "    <tr>\n",
       "      <th>min</th>\n",
       "      <td>0.000000</td>\n",
       "      <td>NaN</td>\n",
       "      <td>NaN</td>\n",
       "      <td>NaN</td>\n",
       "      <td>NaN</td>\n",
       "      <td>NaN</td>\n",
       "      <td>NaN</td>\n",
       "      <td>NaN</td>\n",
       "      <td>0.000000</td>\n",
       "      <td>0.000000</td>\n",
       "    </tr>\n",
       "    <tr>\n",
       "      <th>25%</th>\n",
       "      <td>52.000000</td>\n",
       "      <td>NaN</td>\n",
       "      <td>NaN</td>\n",
       "      <td>NaN</td>\n",
       "      <td>NaN</td>\n",
       "      <td>NaN</td>\n",
       "      <td>NaN</td>\n",
       "      <td>NaN</td>\n",
       "      <td>13.740000</td>\n",
       "      <td>0.000000</td>\n",
       "    </tr>\n",
       "    <tr>\n",
       "      <th>50%</th>\n",
       "      <td>97.000000</td>\n",
       "      <td>NaN</td>\n",
       "      <td>NaN</td>\n",
       "      <td>NaN</td>\n",
       "      <td>NaN</td>\n",
       "      <td>NaN</td>\n",
       "      <td>NaN</td>\n",
       "      <td>NaN</td>\n",
       "      <td>26.900000</td>\n",
       "      <td>0.000000</td>\n",
       "    </tr>\n",
       "    <tr>\n",
       "      <th>75%</th>\n",
       "      <td>139.000000</td>\n",
       "      <td>NaN</td>\n",
       "      <td>NaN</td>\n",
       "      <td>NaN</td>\n",
       "      <td>NaN</td>\n",
       "      <td>NaN</td>\n",
       "      <td>NaN</td>\n",
       "      <td>NaN</td>\n",
       "      <td>42.540000</td>\n",
       "      <td>0.000000</td>\n",
       "    </tr>\n",
       "    <tr>\n",
       "      <th>max</th>\n",
       "      <td>179.000000</td>\n",
       "      <td>NaN</td>\n",
       "      <td>NaN</td>\n",
       "      <td>NaN</td>\n",
       "      <td>NaN</td>\n",
       "      <td>NaN</td>\n",
       "      <td>NaN</td>\n",
       "      <td>NaN</td>\n",
       "      <td>8329.960000</td>\n",
       "      <td>1.000000</td>\n",
       "    </tr>\n",
       "  </tbody>\n",
       "</table>\n",
       "</div>"
      ],
      "text/plain": [
       "                 step       customer     age  gender zipcodeOri  \\\n",
       "count   594643.000000         594643  594643  594643     594643   \n",
       "unique            NaN           4112       8       4          1   \n",
       "top               NaN  'C1978250683'     '2'     'F'    '28007'   \n",
       "freq              NaN            265  187310  324565     594643   \n",
       "mean        94.986827            NaN     NaN     NaN        NaN   \n",
       "std         51.053632            NaN     NaN     NaN        NaN   \n",
       "min          0.000000            NaN     NaN     NaN        NaN   \n",
       "25%         52.000000            NaN     NaN     NaN        NaN   \n",
       "50%         97.000000            NaN     NaN     NaN        NaN   \n",
       "75%        139.000000            NaN     NaN     NaN        NaN   \n",
       "max        179.000000            NaN     NaN     NaN        NaN   \n",
       "\n",
       "             merchant zipMerchant             category         amount  \\\n",
       "count          594643      594643               594643  594643.000000   \n",
       "unique             50           1                   15            NaN   \n",
       "top     'M1823072687'     '28007'  'es_transportation'            NaN   \n",
       "freq           299693      594643               505119            NaN   \n",
       "mean              NaN         NaN                  NaN      37.890135   \n",
       "std               NaN         NaN                  NaN     111.402831   \n",
       "min               NaN         NaN                  NaN       0.000000   \n",
       "25%               NaN         NaN                  NaN      13.740000   \n",
       "50%               NaN         NaN                  NaN      26.900000   \n",
       "75%               NaN         NaN                  NaN      42.540000   \n",
       "max               NaN         NaN                  NaN    8329.960000   \n",
       "\n",
       "                fraud  \n",
       "count   594643.000000  \n",
       "unique            NaN  \n",
       "top               NaN  \n",
       "freq              NaN  \n",
       "mean         0.012108  \n",
       "std          0.109369  \n",
       "min          0.000000  \n",
       "25%          0.000000  \n",
       "50%          0.000000  \n",
       "75%          0.000000  \n",
       "max          1.000000  "
      ]
     },
     "execution_count": 5,
     "metadata": {},
     "output_type": "execute_result"
    }
   ],
   "source": [
    "BankSim_df.describe(include='all')"
   ]
  },
  {
   "cell_type": "code",
   "execution_count": 6,
   "metadata": {},
   "outputs": [
    {
     "data": {
      "text/html": [
       "<div>\n",
       "<style scoped>\n",
       "    .dataframe tbody tr th:only-of-type {\n",
       "        vertical-align: middle;\n",
       "    }\n",
       "\n",
       "    .dataframe tbody tr th {\n",
       "        vertical-align: top;\n",
       "    }\n",
       "\n",
       "    .dataframe thead th {\n",
       "        text-align: right;\n",
       "    }\n",
       "</style>\n",
       "<table border=\"1\" class=\"dataframe\">\n",
       "  <thead>\n",
       "    <tr style=\"text-align: right;\">\n",
       "      <th></th>\n",
       "      <th>step</th>\n",
       "      <th>customer</th>\n",
       "      <th>age</th>\n",
       "      <th>gender</th>\n",
       "      <th>zipcodeOri</th>\n",
       "      <th>merchant</th>\n",
       "      <th>zipMerchant</th>\n",
       "      <th>category</th>\n",
       "      <th>amount</th>\n",
       "      <th>fraud</th>\n",
       "    </tr>\n",
       "  </thead>\n",
       "  <tbody>\n",
       "    <tr>\n",
       "      <th>88</th>\n",
       "      <td>0</td>\n",
       "      <td>'C583110837'</td>\n",
       "      <td>'3'</td>\n",
       "      <td>'M'</td>\n",
       "      <td>'28007'</td>\n",
       "      <td>'M480139044'</td>\n",
       "      <td>'28007'</td>\n",
       "      <td>'es_health'</td>\n",
       "      <td>44.26</td>\n",
       "      <td>1</td>\n",
       "    </tr>\n",
       "    <tr>\n",
       "      <th>89</th>\n",
       "      <td>0</td>\n",
       "      <td>'C1332295774'</td>\n",
       "      <td>'3'</td>\n",
       "      <td>'M'</td>\n",
       "      <td>'28007'</td>\n",
       "      <td>'M480139044'</td>\n",
       "      <td>'28007'</td>\n",
       "      <td>'es_health'</td>\n",
       "      <td>324.50</td>\n",
       "      <td>1</td>\n",
       "    </tr>\n",
       "    <tr>\n",
       "      <th>434</th>\n",
       "      <td>0</td>\n",
       "      <td>'C1160421902'</td>\n",
       "      <td>'3'</td>\n",
       "      <td>'M'</td>\n",
       "      <td>'28007'</td>\n",
       "      <td>'M857378720'</td>\n",
       "      <td>'28007'</td>\n",
       "      <td>'es_hotelservices'</td>\n",
       "      <td>176.32</td>\n",
       "      <td>1</td>\n",
       "    </tr>\n",
       "    <tr>\n",
       "      <th>435</th>\n",
       "      <td>0</td>\n",
       "      <td>'C966214713'</td>\n",
       "      <td>'3'</td>\n",
       "      <td>'M'</td>\n",
       "      <td>'28007'</td>\n",
       "      <td>'M857378720'</td>\n",
       "      <td>'28007'</td>\n",
       "      <td>'es_hotelservices'</td>\n",
       "      <td>337.41</td>\n",
       "      <td>1</td>\n",
       "    </tr>\n",
       "    <tr>\n",
       "      <th>553</th>\n",
       "      <td>0</td>\n",
       "      <td>'C1450140987'</td>\n",
       "      <td>'4'</td>\n",
       "      <td>'F'</td>\n",
       "      <td>'28007'</td>\n",
       "      <td>'M1198415165'</td>\n",
       "      <td>'28007'</td>\n",
       "      <td>'es_wellnessandbeauty'</td>\n",
       "      <td>220.11</td>\n",
       "      <td>1</td>\n",
       "    </tr>\n",
       "    <tr>\n",
       "      <th>...</th>\n",
       "      <td>...</td>\n",
       "      <td>...</td>\n",
       "      <td>...</td>\n",
       "      <td>...</td>\n",
       "      <td>...</td>\n",
       "      <td>...</td>\n",
       "      <td>...</td>\n",
       "      <td>...</td>\n",
       "      <td>...</td>\n",
       "      <td>...</td>\n",
       "    </tr>\n",
       "    <tr>\n",
       "      <th>593928</th>\n",
       "      <td>179</td>\n",
       "      <td>'C2138532527'</td>\n",
       "      <td>'5'</td>\n",
       "      <td>'M'</td>\n",
       "      <td>'28007'</td>\n",
       "      <td>'M3697346'</td>\n",
       "      <td>'28007'</td>\n",
       "      <td>'es_leisure'</td>\n",
       "      <td>192.78</td>\n",
       "      <td>1</td>\n",
       "    </tr>\n",
       "    <tr>\n",
       "      <th>594025</th>\n",
       "      <td>179</td>\n",
       "      <td>'C644541754'</td>\n",
       "      <td>'5'</td>\n",
       "      <td>'F'</td>\n",
       "      <td>'28007'</td>\n",
       "      <td>'M1748431652'</td>\n",
       "      <td>'28007'</td>\n",
       "      <td>'es_wellnessandbeauty'</td>\n",
       "      <td>42.37</td>\n",
       "      <td>1</td>\n",
       "    </tr>\n",
       "    <tr>\n",
       "      <th>594026</th>\n",
       "      <td>179</td>\n",
       "      <td>'C245117318'</td>\n",
       "      <td>'3'</td>\n",
       "      <td>'F'</td>\n",
       "      <td>'28007'</td>\n",
       "      <td>'M1748431652'</td>\n",
       "      <td>'28007'</td>\n",
       "      <td>'es_wellnessandbeauty'</td>\n",
       "      <td>521.84</td>\n",
       "      <td>1</td>\n",
       "    </tr>\n",
       "    <tr>\n",
       "      <th>594168</th>\n",
       "      <td>179</td>\n",
       "      <td>'C1239184141'</td>\n",
       "      <td>'2'</td>\n",
       "      <td>'F'</td>\n",
       "      <td>'28007'</td>\n",
       "      <td>'M209847108'</td>\n",
       "      <td>'28007'</td>\n",
       "      <td>'es_wellnessandbeauty'</td>\n",
       "      <td>25.29</td>\n",
       "      <td>1</td>\n",
       "    </tr>\n",
       "    <tr>\n",
       "      <th>594169</th>\n",
       "      <td>179</td>\n",
       "      <td>'C2055489140'</td>\n",
       "      <td>'5'</td>\n",
       "      <td>'M'</td>\n",
       "      <td>'28007'</td>\n",
       "      <td>'M209847108'</td>\n",
       "      <td>'28007'</td>\n",
       "      <td>'es_wellnessandbeauty'</td>\n",
       "      <td>10.16</td>\n",
       "      <td>1</td>\n",
       "    </tr>\n",
       "  </tbody>\n",
       "</table>\n",
       "<p>7200 rows × 10 columns</p>\n",
       "</div>"
      ],
      "text/plain": [
       "        step       customer  age gender zipcodeOri       merchant zipMerchant  \\\n",
       "88         0   'C583110837'  '3'    'M'    '28007'   'M480139044'     '28007'   \n",
       "89         0  'C1332295774'  '3'    'M'    '28007'   'M480139044'     '28007'   \n",
       "434        0  'C1160421902'  '3'    'M'    '28007'   'M857378720'     '28007'   \n",
       "435        0   'C966214713'  '3'    'M'    '28007'   'M857378720'     '28007'   \n",
       "553        0  'C1450140987'  '4'    'F'    '28007'  'M1198415165'     '28007'   \n",
       "...      ...            ...  ...    ...        ...            ...         ...   \n",
       "593928   179  'C2138532527'  '5'    'M'    '28007'     'M3697346'     '28007'   \n",
       "594025   179   'C644541754'  '5'    'F'    '28007'  'M1748431652'     '28007'   \n",
       "594026   179   'C245117318'  '3'    'F'    '28007'  'M1748431652'     '28007'   \n",
       "594168   179  'C1239184141'  '2'    'F'    '28007'   'M209847108'     '28007'   \n",
       "594169   179  'C2055489140'  '5'    'M'    '28007'   'M209847108'     '28007'   \n",
       "\n",
       "                      category  amount  fraud  \n",
       "88                 'es_health'   44.26      1  \n",
       "89                 'es_health'  324.50      1  \n",
       "434         'es_hotelservices'  176.32      1  \n",
       "435         'es_hotelservices'  337.41      1  \n",
       "553     'es_wellnessandbeauty'  220.11      1  \n",
       "...                        ...     ...    ...  \n",
       "593928            'es_leisure'  192.78      1  \n",
       "594025  'es_wellnessandbeauty'   42.37      1  \n",
       "594026  'es_wellnessandbeauty'  521.84      1  \n",
       "594168  'es_wellnessandbeauty'   25.29      1  \n",
       "594169  'es_wellnessandbeauty'   10.16      1  \n",
       "\n",
       "[7200 rows x 10 columns]"
      ]
     },
     "execution_count": 6,
     "metadata": {},
     "output_type": "execute_result"
    }
   ],
   "source": [
    "BankSim_df.loc[BankSim_df.fraud==1]"
   ]
  },
  {
   "cell_type": "markdown",
   "metadata": {},
   "source": [
    "### 7200 are fraud records"
   ]
  },
  {
   "cell_type": "code",
   "execution_count": 7,
   "metadata": {},
   "outputs": [],
   "source": [
    "length_fraud=BankSim_df.loc[BankSim_df.fraud==1].count()"
   ]
  },
  {
   "cell_type": "code",
   "execution_count": 8,
   "metadata": {},
   "outputs": [
    {
     "data": {
      "text/plain": [
       "12.108105199254005"
      ]
     },
     "execution_count": 8,
     "metadata": {},
     "output_type": "execute_result"
    }
   ],
   "source": [
    "length_fraud.sum()/len(BankSim_df)*100"
   ]
  },
  {
   "cell_type": "markdown",
   "metadata": {},
   "source": [
    "~13% are in default category in whole data set"
   ]
  },
  {
   "cell_type": "code",
   "execution_count": 9,
   "metadata": {},
   "outputs": [
    {
     "data": {
      "text/html": [
       "<div>\n",
       "<style scoped>\n",
       "    .dataframe tbody tr th:only-of-type {\n",
       "        vertical-align: middle;\n",
       "    }\n",
       "\n",
       "    .dataframe tbody tr th {\n",
       "        vertical-align: top;\n",
       "    }\n",
       "\n",
       "    .dataframe thead th {\n",
       "        text-align: right;\n",
       "    }\n",
       "</style>\n",
       "<table border=\"1\" class=\"dataframe\">\n",
       "  <thead>\n",
       "    <tr style=\"text-align: right;\">\n",
       "      <th></th>\n",
       "      <th>step</th>\n",
       "      <th>customer</th>\n",
       "      <th>age</th>\n",
       "      <th>gender</th>\n",
       "      <th>zipcodeOri</th>\n",
       "      <th>merchant</th>\n",
       "      <th>zipMerchant</th>\n",
       "      <th>category</th>\n",
       "      <th>amount</th>\n",
       "      <th>fraud</th>\n",
       "    </tr>\n",
       "  </thead>\n",
       "  <tbody>\n",
       "    <tr>\n",
       "      <th>88</th>\n",
       "      <td>0</td>\n",
       "      <td>'C583110837'</td>\n",
       "      <td>'3'</td>\n",
       "      <td>'M'</td>\n",
       "      <td>'28007'</td>\n",
       "      <td>'M480139044'</td>\n",
       "      <td>'28007'</td>\n",
       "      <td>'es_health'</td>\n",
       "      <td>44.26</td>\n",
       "      <td>1</td>\n",
       "    </tr>\n",
       "    <tr>\n",
       "      <th>89</th>\n",
       "      <td>0</td>\n",
       "      <td>'C1332295774'</td>\n",
       "      <td>'3'</td>\n",
       "      <td>'M'</td>\n",
       "      <td>'28007'</td>\n",
       "      <td>'M480139044'</td>\n",
       "      <td>'28007'</td>\n",
       "      <td>'es_health'</td>\n",
       "      <td>324.50</td>\n",
       "      <td>1</td>\n",
       "    </tr>\n",
       "    <tr>\n",
       "      <th>434</th>\n",
       "      <td>0</td>\n",
       "      <td>'C1160421902'</td>\n",
       "      <td>'3'</td>\n",
       "      <td>'M'</td>\n",
       "      <td>'28007'</td>\n",
       "      <td>'M857378720'</td>\n",
       "      <td>'28007'</td>\n",
       "      <td>'es_hotelservices'</td>\n",
       "      <td>176.32</td>\n",
       "      <td>1</td>\n",
       "    </tr>\n",
       "    <tr>\n",
       "      <th>435</th>\n",
       "      <td>0</td>\n",
       "      <td>'C966214713'</td>\n",
       "      <td>'3'</td>\n",
       "      <td>'M'</td>\n",
       "      <td>'28007'</td>\n",
       "      <td>'M857378720'</td>\n",
       "      <td>'28007'</td>\n",
       "      <td>'es_hotelservices'</td>\n",
       "      <td>337.41</td>\n",
       "      <td>1</td>\n",
       "    </tr>\n",
       "    <tr>\n",
       "      <th>553</th>\n",
       "      <td>0</td>\n",
       "      <td>'C1450140987'</td>\n",
       "      <td>'4'</td>\n",
       "      <td>'F'</td>\n",
       "      <td>'28007'</td>\n",
       "      <td>'M1198415165'</td>\n",
       "      <td>'28007'</td>\n",
       "      <td>'es_wellnessandbeauty'</td>\n",
       "      <td>220.11</td>\n",
       "      <td>1</td>\n",
       "    </tr>\n",
       "  </tbody>\n",
       "</table>\n",
       "</div>"
      ],
      "text/plain": [
       "     step       customer  age gender zipcodeOri       merchant zipMerchant  \\\n",
       "88      0   'C583110837'  '3'    'M'    '28007'   'M480139044'     '28007'   \n",
       "89      0  'C1332295774'  '3'    'M'    '28007'   'M480139044'     '28007'   \n",
       "434     0  'C1160421902'  '3'    'M'    '28007'   'M857378720'     '28007'   \n",
       "435     0   'C966214713'  '3'    'M'    '28007'   'M857378720'     '28007'   \n",
       "553     0  'C1450140987'  '4'    'F'    '28007'  'M1198415165'     '28007'   \n",
       "\n",
       "                   category  amount  fraud  \n",
       "88              'es_health'   44.26      1  \n",
       "89              'es_health'  324.50      1  \n",
       "434      'es_hotelservices'  176.32      1  \n",
       "435      'es_hotelservices'  337.41      1  \n",
       "553  'es_wellnessandbeauty'  220.11      1  "
      ]
     },
     "execution_count": 9,
     "metadata": {},
     "output_type": "execute_result"
    }
   ],
   "source": [
    "Fraud_customers= BankSim_df.loc[BankSim_df.fraud==1]\n",
    "Fraud_customers.head()"
   ]
  },
  {
   "cell_type": "code",
   "execution_count": 10,
   "metadata": {},
   "outputs": [
    {
     "data": {
      "text/html": [
       "<div>\n",
       "<style scoped>\n",
       "    .dataframe tbody tr th:only-of-type {\n",
       "        vertical-align: middle;\n",
       "    }\n",
       "\n",
       "    .dataframe tbody tr th {\n",
       "        vertical-align: top;\n",
       "    }\n",
       "\n",
       "    .dataframe thead th {\n",
       "        text-align: right;\n",
       "    }\n",
       "</style>\n",
       "<table border=\"1\" class=\"dataframe\">\n",
       "  <thead>\n",
       "    <tr style=\"text-align: right;\">\n",
       "      <th></th>\n",
       "      <th>step</th>\n",
       "      <th>customer</th>\n",
       "      <th>age</th>\n",
       "      <th>gender</th>\n",
       "      <th>zipcodeOri</th>\n",
       "      <th>merchant</th>\n",
       "      <th>zipMerchant</th>\n",
       "      <th>category</th>\n",
       "      <th>amount</th>\n",
       "      <th>fraud</th>\n",
       "    </tr>\n",
       "  </thead>\n",
       "  <tbody>\n",
       "    <tr>\n",
       "      <th>0</th>\n",
       "      <td>0</td>\n",
       "      <td>'C1093826151'</td>\n",
       "      <td>'4'</td>\n",
       "      <td>'M'</td>\n",
       "      <td>'28007'</td>\n",
       "      <td>'M348934600'</td>\n",
       "      <td>'28007'</td>\n",
       "      <td>'es_transportation'</td>\n",
       "      <td>4.55</td>\n",
       "      <td>0</td>\n",
       "    </tr>\n",
       "    <tr>\n",
       "      <th>1</th>\n",
       "      <td>0</td>\n",
       "      <td>'C352968107'</td>\n",
       "      <td>'2'</td>\n",
       "      <td>'M'</td>\n",
       "      <td>'28007'</td>\n",
       "      <td>'M348934600'</td>\n",
       "      <td>'28007'</td>\n",
       "      <td>'es_transportation'</td>\n",
       "      <td>39.68</td>\n",
       "      <td>0</td>\n",
       "    </tr>\n",
       "    <tr>\n",
       "      <th>2</th>\n",
       "      <td>0</td>\n",
       "      <td>'C2054744914'</td>\n",
       "      <td>'4'</td>\n",
       "      <td>'F'</td>\n",
       "      <td>'28007'</td>\n",
       "      <td>'M1823072687'</td>\n",
       "      <td>'28007'</td>\n",
       "      <td>'es_transportation'</td>\n",
       "      <td>26.89</td>\n",
       "      <td>0</td>\n",
       "    </tr>\n",
       "    <tr>\n",
       "      <th>3</th>\n",
       "      <td>0</td>\n",
       "      <td>'C1760612790'</td>\n",
       "      <td>'3'</td>\n",
       "      <td>'M'</td>\n",
       "      <td>'28007'</td>\n",
       "      <td>'M348934600'</td>\n",
       "      <td>'28007'</td>\n",
       "      <td>'es_transportation'</td>\n",
       "      <td>17.25</td>\n",
       "      <td>0</td>\n",
       "    </tr>\n",
       "    <tr>\n",
       "      <th>4</th>\n",
       "      <td>0</td>\n",
       "      <td>'C757503768'</td>\n",
       "      <td>'5'</td>\n",
       "      <td>'M'</td>\n",
       "      <td>'28007'</td>\n",
       "      <td>'M348934600'</td>\n",
       "      <td>'28007'</td>\n",
       "      <td>'es_transportation'</td>\n",
       "      <td>35.72</td>\n",
       "      <td>0</td>\n",
       "    </tr>\n",
       "    <tr>\n",
       "      <th>...</th>\n",
       "      <td>...</td>\n",
       "      <td>...</td>\n",
       "      <td>...</td>\n",
       "      <td>...</td>\n",
       "      <td>...</td>\n",
       "      <td>...</td>\n",
       "      <td>...</td>\n",
       "      <td>...</td>\n",
       "      <td>...</td>\n",
       "      <td>...</td>\n",
       "    </tr>\n",
       "    <tr>\n",
       "      <th>594638</th>\n",
       "      <td>179</td>\n",
       "      <td>'C1753498738'</td>\n",
       "      <td>'3'</td>\n",
       "      <td>'F'</td>\n",
       "      <td>'28007'</td>\n",
       "      <td>'M1823072687'</td>\n",
       "      <td>'28007'</td>\n",
       "      <td>'es_transportation'</td>\n",
       "      <td>20.53</td>\n",
       "      <td>0</td>\n",
       "    </tr>\n",
       "    <tr>\n",
       "      <th>594639</th>\n",
       "      <td>179</td>\n",
       "      <td>'C650108285'</td>\n",
       "      <td>'4'</td>\n",
       "      <td>'F'</td>\n",
       "      <td>'28007'</td>\n",
       "      <td>'M1823072687'</td>\n",
       "      <td>'28007'</td>\n",
       "      <td>'es_transportation'</td>\n",
       "      <td>50.73</td>\n",
       "      <td>0</td>\n",
       "    </tr>\n",
       "    <tr>\n",
       "      <th>594640</th>\n",
       "      <td>179</td>\n",
       "      <td>'C123623130'</td>\n",
       "      <td>'2'</td>\n",
       "      <td>'F'</td>\n",
       "      <td>'28007'</td>\n",
       "      <td>'M349281107'</td>\n",
       "      <td>'28007'</td>\n",
       "      <td>'es_fashion'</td>\n",
       "      <td>22.44</td>\n",
       "      <td>0</td>\n",
       "    </tr>\n",
       "    <tr>\n",
       "      <th>594641</th>\n",
       "      <td>179</td>\n",
       "      <td>'C1499363341'</td>\n",
       "      <td>'5'</td>\n",
       "      <td>'M'</td>\n",
       "      <td>'28007'</td>\n",
       "      <td>'M1823072687'</td>\n",
       "      <td>'28007'</td>\n",
       "      <td>'es_transportation'</td>\n",
       "      <td>14.46</td>\n",
       "      <td>0</td>\n",
       "    </tr>\n",
       "    <tr>\n",
       "      <th>594642</th>\n",
       "      <td>179</td>\n",
       "      <td>'C616528518'</td>\n",
       "      <td>'4'</td>\n",
       "      <td>'F'</td>\n",
       "      <td>'28007'</td>\n",
       "      <td>'M1823072687'</td>\n",
       "      <td>'28007'</td>\n",
       "      <td>'es_transportation'</td>\n",
       "      <td>26.93</td>\n",
       "      <td>0</td>\n",
       "    </tr>\n",
       "  </tbody>\n",
       "</table>\n",
       "<p>587443 rows × 10 columns</p>\n",
       "</div>"
      ],
      "text/plain": [
       "        step       customer  age gender zipcodeOri       merchant zipMerchant  \\\n",
       "0          0  'C1093826151'  '4'    'M'    '28007'   'M348934600'     '28007'   \n",
       "1          0   'C352968107'  '2'    'M'    '28007'   'M348934600'     '28007'   \n",
       "2          0  'C2054744914'  '4'    'F'    '28007'  'M1823072687'     '28007'   \n",
       "3          0  'C1760612790'  '3'    'M'    '28007'   'M348934600'     '28007'   \n",
       "4          0   'C757503768'  '5'    'M'    '28007'   'M348934600'     '28007'   \n",
       "...      ...            ...  ...    ...        ...            ...         ...   \n",
       "594638   179  'C1753498738'  '3'    'F'    '28007'  'M1823072687'     '28007'   \n",
       "594639   179   'C650108285'  '4'    'F'    '28007'  'M1823072687'     '28007'   \n",
       "594640   179   'C123623130'  '2'    'F'    '28007'   'M349281107'     '28007'   \n",
       "594641   179  'C1499363341'  '5'    'M'    '28007'  'M1823072687'     '28007'   \n",
       "594642   179   'C616528518'  '4'    'F'    '28007'  'M1823072687'     '28007'   \n",
       "\n",
       "                   category  amount  fraud  \n",
       "0       'es_transportation'    4.55      0  \n",
       "1       'es_transportation'   39.68      0  \n",
       "2       'es_transportation'   26.89      0  \n",
       "3       'es_transportation'   17.25      0  \n",
       "4       'es_transportation'   35.72      0  \n",
       "...                     ...     ...    ...  \n",
       "594638  'es_transportation'   20.53      0  \n",
       "594639  'es_transportation'   50.73      0  \n",
       "594640         'es_fashion'   22.44      0  \n",
       "594641  'es_transportation'   14.46      0  \n",
       "594642  'es_transportation'   26.93      0  \n",
       "\n",
       "[587443 rows x 10 columns]"
      ]
     },
     "execution_count": 10,
     "metadata": {},
     "output_type": "execute_result"
    }
   ],
   "source": [
    "NoDefaulters=BankSim_df.loc[BankSim_df.fraud==0]\n",
    "NoDefaulters"
   ]
  },
  {
   "cell_type": "markdown",
   "metadata": {},
   "source": [
    "#### Customers count that are non defaulter 587443 "
   ]
  },
  {
   "cell_type": "code",
   "execution_count": 11,
   "metadata": {},
   "outputs": [
    {
     "data": {
      "text/plain": [
       "count    594643.000000\n",
       "mean         37.890135\n",
       "std         111.402831\n",
       "min           0.000000\n",
       "25%          13.740000\n",
       "50%          26.900000\n",
       "75%          42.540000\n",
       "max        8329.960000\n",
       "Name: amount, dtype: float64"
      ]
     },
     "execution_count": 11,
     "metadata": {},
     "output_type": "execute_result"
    }
   ],
   "source": [
    "BankSim_df['amount'].describe()"
   ]
  },
  {
   "cell_type": "code",
   "execution_count": 12,
   "metadata": {},
   "outputs": [
    {
     "data": {
      "text/plain": [
       "<AxesSubplot:xlabel='amount'>"
      ]
     },
     "execution_count": 12,
     "metadata": {},
     "output_type": "execute_result"
    },
    {
     "data": {
      "image/png": "[encoded data removed]",
      "text/plain": [
       "<Figure size 432x288 with 1 Axes>"
      ]
     },
     "metadata": {
      "needs_background": "light"
     },
     "output_type": "display_data"
    }
   ],
   "source": [
    "sns.distplot(Fraud_customers['amount'], kde=False)"
   ]
  },
  {
   "cell_type": "markdown",
   "metadata": {},
   "source": [
    "- Maximun defaulters do transactions between 0-2000"
   ]
  },
  {
   "cell_type": "code",
   "execution_count": 13,
   "metadata": {},
   "outputs": [
    {
     "data": {
      "text/plain": [
       "<AxesSubplot:xlabel='amount'>"
      ]
     },
     "execution_count": 13,
     "metadata": {},
     "output_type": "execute_result"
    },
    {
     "data": {
      "image/png": "[encoded data removed]",
      "text/plain": [
       "<Figure size 432x288 with 1 Axes>"
      ]
     },
     "metadata": {
      "needs_background": "light"
     },
     "output_type": "display_data"
    }
   ],
   "source": [
    "sns.distplot(NoDefaulters['amount'], kde=False)"
   ]
  },
  {
   "cell_type": "markdown",
   "metadata": {},
   "source": [
    "- Non Defaulters do transaction of less amount as compare to defaulters"
   ]
  },
  {
   "cell_type": "code",
   "execution_count": 14,
   "metadata": {},
   "outputs": [
    {
     "data": {
      "image/png": "[encoded data removed]",
      "text/plain": [
       "<Figure size 1440x720 with 2 Axes>"
      ]
     },
     "metadata": {
      "needs_background": "light"
     },
     "output_type": "display_data"
    }
   ],
   "source": [
    "plt.figure(figsize=(20, 10))\n",
    "plt.subplot(1,2,1)\n",
    "sns.boxplot(x='gender', y='amount', hue='fraud' ,data=BankSim_df)\n",
    "plt.subplot(1,2,2)\n",
    "sns.boxplot(x='age', y='amount', hue='fraud',data=BankSim_df)\n",
    "plt.show()"
   ]
  },
  {
   "cell_type": "markdown",
   "metadata": {},
   "source": [
    "- For genders we have see so many outliers in case of non defaulters male and female categories \n",
    "- For age we have see so many outliers in case of \"4\", \"2\", \"3\", \"5\", \"1\"."
   ]
  },
  {
   "cell_type": "code",
   "execution_count": 15,
   "metadata": {},
   "outputs": [
    {
     "data": {
      "text/plain": [
       "<AxesSubplot:xlabel='category', ylabel='amount'>"
      ]
     },
     "execution_count": 15,
     "metadata": {},
     "output_type": "execute_result"
    },
    {
     "data": {
      "image/png": "[encoded data removed]",
      "text/plain": [
       "<Figure size 2160x1440 with 1 Axes>"
      ]
     },
     "metadata": {
      "needs_background": "light"
     },
     "output_type": "display_data"
    }
   ],
   "source": [
    "plt.figure(figsize=(30, 20))\n",
    "sns.boxplot(x='category', y='amount', hue='fraud',data=BankSim_df)"
   ]
  },
  {
   "cell_type": "markdown",
   "metadata": {},
   "source": [
    "- Max transactions where obseerved on 'es_travel' and the same time max defaulters rate also observed on es_travel. All feilds contains defaulter rate.'es_transportation' and 'es_contents' has only defaulter rate"
   ]
  },
  {
   "cell_type": "markdown",
   "metadata": {},
   "source": [
    "#### Data Preparation"
   ]
  },
  {
   "cell_type": "code",
   "execution_count": 16,
   "metadata": {},
   "outputs": [
    {
     "data": {
      "text/html": [
       "<div>\n",
       "<style scoped>\n",
       "    .dataframe tbody tr th:only-of-type {\n",
       "        vertical-align: middle;\n",
       "    }\n",
       "\n",
       "    .dataframe tbody tr th {\n",
       "        vertical-align: top;\n",
       "    }\n",
       "\n",
       "    .dataframe thead th {\n",
       "        text-align: right;\n",
       "    }\n",
       "</style>\n",
       "<table border=\"1\" class=\"dataframe\">\n",
       "  <thead>\n",
       "    <tr style=\"text-align: right;\">\n",
       "      <th></th>\n",
       "      <th>step</th>\n",
       "      <th>customer</th>\n",
       "      <th>age</th>\n",
       "      <th>gender</th>\n",
       "      <th>zipcodeOri</th>\n",
       "      <th>merchant</th>\n",
       "      <th>zipMerchant</th>\n",
       "      <th>category</th>\n",
       "      <th>amount</th>\n",
       "      <th>fraud</th>\n",
       "    </tr>\n",
       "  </thead>\n",
       "  <tbody>\n",
       "    <tr>\n",
       "      <th>0</th>\n",
       "      <td>0</td>\n",
       "      <td>C1093826151</td>\n",
       "      <td>4</td>\n",
       "      <td>M</td>\n",
       "      <td>'28007'</td>\n",
       "      <td>'M348934600'</td>\n",
       "      <td>'28007'</td>\n",
       "      <td>es_transportation</td>\n",
       "      <td>4.55</td>\n",
       "      <td>0</td>\n",
       "    </tr>\n",
       "    <tr>\n",
       "      <th>1</th>\n",
       "      <td>0</td>\n",
       "      <td>C352968107</td>\n",
       "      <td>2</td>\n",
       "      <td>M</td>\n",
       "      <td>'28007'</td>\n",
       "      <td>'M348934600'</td>\n",
       "      <td>'28007'</td>\n",
       "      <td>es_transportation</td>\n",
       "      <td>39.68</td>\n",
       "      <td>0</td>\n",
       "    </tr>\n",
       "    <tr>\n",
       "      <th>2</th>\n",
       "      <td>0</td>\n",
       "      <td>C2054744914</td>\n",
       "      <td>4</td>\n",
       "      <td>F</td>\n",
       "      <td>'28007'</td>\n",
       "      <td>'M1823072687'</td>\n",
       "      <td>'28007'</td>\n",
       "      <td>es_transportation</td>\n",
       "      <td>26.89</td>\n",
       "      <td>0</td>\n",
       "    </tr>\n",
       "    <tr>\n",
       "      <th>3</th>\n",
       "      <td>0</td>\n",
       "      <td>C1760612790</td>\n",
       "      <td>3</td>\n",
       "      <td>M</td>\n",
       "      <td>'28007'</td>\n",
       "      <td>'M348934600'</td>\n",
       "      <td>'28007'</td>\n",
       "      <td>es_transportation</td>\n",
       "      <td>17.25</td>\n",
       "      <td>0</td>\n",
       "    </tr>\n",
       "    <tr>\n",
       "      <th>4</th>\n",
       "      <td>0</td>\n",
       "      <td>C757503768</td>\n",
       "      <td>5</td>\n",
       "      <td>M</td>\n",
       "      <td>'28007'</td>\n",
       "      <td>'M348934600'</td>\n",
       "      <td>'28007'</td>\n",
       "      <td>es_transportation</td>\n",
       "      <td>35.72</td>\n",
       "      <td>0</td>\n",
       "    </tr>\n",
       "  </tbody>\n",
       "</table>\n",
       "</div>"
      ],
      "text/plain": [
       "   step     customer age gender zipcodeOri       merchant zipMerchant  \\\n",
       "0     0  C1093826151   4      M    '28007'   'M348934600'     '28007'   \n",
       "1     0   C352968107   2      M    '28007'   'M348934600'     '28007'   \n",
       "2     0  C2054744914   4      F    '28007'  'M1823072687'     '28007'   \n",
       "3     0  C1760612790   3      M    '28007'   'M348934600'     '28007'   \n",
       "4     0   C757503768   5      M    '28007'   'M348934600'     '28007'   \n",
       "\n",
       "            category  amount  fraud  \n",
       "0  es_transportation    4.55      0  \n",
       "1  es_transportation   39.68      0  \n",
       "2  es_transportation   26.89      0  \n",
       "3  es_transportation   17.25      0  \n",
       "4  es_transportation   35.72      0  "
      ]
     },
     "execution_count": 16,
     "metadata": {},
     "output_type": "execute_result"
    }
   ],
   "source": [
    "# Removing the '' from the dataset \n",
    "BankSim_df['gender'] = BankSim_df['gender'].str[1:-1]\n",
    "BankSim_df['customer']=BankSim_df['customer'].str[1:-1]\n",
    "BankSim_df['age']=BankSim_df['age'].str[1:-1]\n",
    "BankSim_df['category']=BankSim_df['category'].str[1:-1]\n",
    "BankSim_df.head()"
   ]
  },
  {
   "cell_type": "code",
   "execution_count": 17,
   "metadata": {},
   "outputs": [],
   "source": [
    "# Creating a dummy variable for some of the categorical variables and dropping the first one.\n",
    "\n",
    "dummy1 = pd.get_dummies(BankSim_df[['gender', 'category','age']], drop_first=True)\n",
    "\n",
    "# Adding the results to the master dataframe\n",
    "BankSim_df = pd.concat([BankSim_df, dummy1], axis=1)"
   ]
  },
  {
   "cell_type": "code",
   "execution_count": 18,
   "metadata": {},
   "outputs": [
    {
     "data": {
      "text/html": [
       "<div>\n",
       "<style scoped>\n",
       "    .dataframe tbody tr th:only-of-type {\n",
       "        vertical-align: middle;\n",
       "    }\n",
       "\n",
       "    .dataframe tbody tr th {\n",
       "        vertical-align: top;\n",
       "    }\n",
       "\n",
       "    .dataframe thead th {\n",
       "        text-align: right;\n",
       "    }\n",
       "</style>\n",
       "<table border=\"1\" class=\"dataframe\">\n",
       "  <thead>\n",
       "    <tr style=\"text-align: right;\">\n",
       "      <th></th>\n",
       "      <th>step</th>\n",
       "      <th>customer</th>\n",
       "      <th>age</th>\n",
       "      <th>gender</th>\n",
       "      <th>zipcodeOri</th>\n",
       "      <th>merchant</th>\n",
       "      <th>zipMerchant</th>\n",
       "      <th>category</th>\n",
       "      <th>amount</th>\n",
       "      <th>fraud</th>\n",
       "      <th>...</th>\n",
       "      <th>category_es_transportation</th>\n",
       "      <th>category_es_travel</th>\n",
       "      <th>category_es_wellnessandbeauty</th>\n",
       "      <th>age_1</th>\n",
       "      <th>age_2</th>\n",
       "      <th>age_3</th>\n",
       "      <th>age_4</th>\n",
       "      <th>age_5</th>\n",
       "      <th>age_6</th>\n",
       "      <th>age_U</th>\n",
       "    </tr>\n",
       "  </thead>\n",
       "  <tbody>\n",
       "    <tr>\n",
       "      <th>0</th>\n",
       "      <td>0</td>\n",
       "      <td>C1093826151</td>\n",
       "      <td>4</td>\n",
       "      <td>M</td>\n",
       "      <td>'28007'</td>\n",
       "      <td>'M348934600'</td>\n",
       "      <td>'28007'</td>\n",
       "      <td>es_transportation</td>\n",
       "      <td>4.55</td>\n",
       "      <td>0</td>\n",
       "      <td>...</td>\n",
       "      <td>1</td>\n",
       "      <td>0</td>\n",
       "      <td>0</td>\n",
       "      <td>0</td>\n",
       "      <td>0</td>\n",
       "      <td>0</td>\n",
       "      <td>1</td>\n",
       "      <td>0</td>\n",
       "      <td>0</td>\n",
       "      <td>0</td>\n",
       "    </tr>\n",
       "    <tr>\n",
       "      <th>1</th>\n",
       "      <td>0</td>\n",
       "      <td>C352968107</td>\n",
       "      <td>2</td>\n",
       "      <td>M</td>\n",
       "      <td>'28007'</td>\n",
       "      <td>'M348934600'</td>\n",
       "      <td>'28007'</td>\n",
       "      <td>es_transportation</td>\n",
       "      <td>39.68</td>\n",
       "      <td>0</td>\n",
       "      <td>...</td>\n",
       "      <td>1</td>\n",
       "      <td>0</td>\n",
       "      <td>0</td>\n",
       "      <td>0</td>\n",
       "      <td>1</td>\n",
       "      <td>0</td>\n",
       "      <td>0</td>\n",
       "      <td>0</td>\n",
       "      <td>0</td>\n",
       "      <td>0</td>\n",
       "    </tr>\n",
       "    <tr>\n",
       "      <th>2</th>\n",
       "      <td>0</td>\n",
       "      <td>C2054744914</td>\n",
       "      <td>4</td>\n",
       "      <td>F</td>\n",
       "      <td>'28007'</td>\n",
       "      <td>'M1823072687'</td>\n",
       "      <td>'28007'</td>\n",
       "      <td>es_transportation</td>\n",
       "      <td>26.89</td>\n",
       "      <td>0</td>\n",
       "      <td>...</td>\n",
       "      <td>1</td>\n",
       "      <td>0</td>\n",
       "      <td>0</td>\n",
       "      <td>0</td>\n",
       "      <td>0</td>\n",
       "      <td>0</td>\n",
       "      <td>1</td>\n",
       "      <td>0</td>\n",
       "      <td>0</td>\n",
       "      <td>0</td>\n",
       "    </tr>\n",
       "    <tr>\n",
       "      <th>3</th>\n",
       "      <td>0</td>\n",
       "      <td>C1760612790</td>\n",
       "      <td>3</td>\n",
       "      <td>M</td>\n",
       "      <td>'28007'</td>\n",
       "      <td>'M348934600'</td>\n",
       "      <td>'28007'</td>\n",
       "      <td>es_transportation</td>\n",
       "      <td>17.25</td>\n",
       "      <td>0</td>\n",
       "      <td>...</td>\n",
       "      <td>1</td>\n",
       "      <td>0</td>\n",
       "      <td>0</td>\n",
       "      <td>0</td>\n",
       "      <td>0</td>\n",
       "      <td>1</td>\n",
       "      <td>0</td>\n",
       "      <td>0</td>\n",
       "      <td>0</td>\n",
       "      <td>0</td>\n",
       "    </tr>\n",
       "    <tr>\n",
       "      <th>4</th>\n",
       "      <td>0</td>\n",
       "      <td>C757503768</td>\n",
       "      <td>5</td>\n",
       "      <td>M</td>\n",
       "      <td>'28007'</td>\n",
       "      <td>'M348934600'</td>\n",
       "      <td>'28007'</td>\n",
       "      <td>es_transportation</td>\n",
       "      <td>35.72</td>\n",
       "      <td>0</td>\n",
       "      <td>...</td>\n",
       "      <td>1</td>\n",
       "      <td>0</td>\n",
       "      <td>0</td>\n",
       "      <td>0</td>\n",
       "      <td>0</td>\n",
       "      <td>0</td>\n",
       "      <td>0</td>\n",
       "      <td>1</td>\n",
       "      <td>0</td>\n",
       "      <td>0</td>\n",
       "    </tr>\n",
       "  </tbody>\n",
       "</table>\n",
       "<p>5 rows × 34 columns</p>\n",
       "</div>"
      ],
      "text/plain": [
       "   step     customer age gender zipcodeOri       merchant zipMerchant  \\\n",
       "0     0  C1093826151   4      M    '28007'   'M348934600'     '28007'   \n",
       "1     0   C352968107   2      M    '28007'   'M348934600'     '28007'   \n",
       "2     0  C2054744914   4      F    '28007'  'M1823072687'     '28007'   \n",
       "3     0  C1760612790   3      M    '28007'   'M348934600'     '28007'   \n",
       "4     0   C757503768   5      M    '28007'   'M348934600'     '28007'   \n",
       "\n",
       "            category  amount  fraud  ...  category_es_transportation  \\\n",
       "0  es_transportation    4.55      0  ...                           1   \n",
       "1  es_transportation   39.68      0  ...                           1   \n",
       "2  es_transportation   26.89      0  ...                           1   \n",
       "3  es_transportation   17.25      0  ...                           1   \n",
       "4  es_transportation   35.72      0  ...                           1   \n",
       "\n",
       "   category_es_travel  category_es_wellnessandbeauty  age_1  age_2  age_3  \\\n",
       "0                   0                              0      0      0      0   \n",
       "1                   0                              0      0      1      0   \n",
       "2                   0                              0      0      0      0   \n",
       "3                   0                              0      0      0      1   \n",
       "4                   0                              0      0      0      0   \n",
       "\n",
       "   age_4  age_5  age_6  age_U  \n",
       "0      1      0      0      0  \n",
       "1      0      0      0      0  \n",
       "2      1      0      0      0  \n",
       "3      0      0      0      0  \n",
       "4      0      1      0      0  \n",
       "\n",
       "[5 rows x 34 columns]"
      ]
     },
     "execution_count": 18,
     "metadata": {},
     "output_type": "execute_result"
    }
   ],
   "source": [
    "BankSim_df.head()"
   ]
  },
  {
   "cell_type": "markdown",
   "metadata": {},
   "source": [
    "Dropping the repeated variables"
   ]
  },
  {
   "cell_type": "code",
   "execution_count": 19,
   "metadata": {},
   "outputs": [],
   "source": [
    "# We have created dummies for the below variables, so we can drop them\n",
    "BankSim_df=BankSim_df.drop(['step','zipcodeOri','merchant','zipMerchant','category','gender','age'],1)"
   ]
  },
  {
   "cell_type": "code",
   "execution_count": 20,
   "metadata": {},
   "outputs": [
    {
     "name": "stdout",
     "output_type": "stream",
     "text": [
      "<class 'pandas.core.frame.DataFrame'>\n",
      "RangeIndex: 594643 entries, 0 to 594642\n",
      "Data columns (total 27 columns):\n",
      " #   Column                         Non-Null Count   Dtype  \n",
      "---  ------                         --------------   -----  \n",
      " 0   customer                       594643 non-null  object \n",
      " 1   amount                         594643 non-null  float64\n",
      " 2   fraud                          594643 non-null  int64  \n",
      " 3   gender_F                       594643 non-null  uint8  \n",
      " 4   gender_M                       594643 non-null  uint8  \n",
      " 5   gender_U                       594643 non-null  uint8  \n",
      " 6   category_es_contents           594643 non-null  uint8  \n",
      " 7   category_es_fashion            594643 non-null  uint8  \n",
      " 8   category_es_food               594643 non-null  uint8  \n",
      " 9   category_es_health             594643 non-null  uint8  \n",
      " 10  category_es_home               594643 non-null  uint8  \n",
      " 11  category_es_hotelservices      594643 non-null  uint8  \n",
      " 12  category_es_hyper              594643 non-null  uint8  \n",
      " 13  category_es_leisure            594643 non-null  uint8  \n",
      " 14  category_es_otherservices      594643 non-null  uint8  \n",
      " 15  category_es_sportsandtoys      594643 non-null  uint8  \n",
      " 16  category_es_tech               594643 non-null  uint8  \n",
      " 17  category_es_transportation     594643 non-null  uint8  \n",
      " 18  category_es_travel             594643 non-null  uint8  \n",
      " 19  category_es_wellnessandbeauty  594643 non-null  uint8  \n",
      " 20  age_1                          594643 non-null  uint8  \n",
      " 21  age_2                          594643 non-null  uint8  \n",
      " 22  age_3                          594643 non-null  uint8  \n",
      " 23  age_4                          594643 non-null  uint8  \n",
      " 24  age_5                          594643 non-null  uint8  \n",
      " 25  age_6                          594643 non-null  uint8  \n",
      " 26  age_U                          594643 non-null  uint8  \n",
      "dtypes: float64(1), int64(1), object(1), uint8(24)\n",
      "memory usage: 27.2+ MB\n"
     ]
    }
   ],
   "source": [
    "BankSim_df.info()"
   ]
  },
  {
   "cell_type": "markdown",
   "metadata": {},
   "source": [
    "#### Checking for Outliers"
   ]
  },
  {
   "cell_type": "code",
   "execution_count": 21,
   "metadata": {},
   "outputs": [],
   "source": [
    "# Checking for outliers in the continuous variables\n",
    "num_BankSim_df = BankSim_df[['amount','fraud']]"
   ]
  },
  {
   "cell_type": "code",
   "execution_count": 22,
   "metadata": {},
   "outputs": [
    {
     "data": {
      "text/html": [
       "<div>\n",
       "<style scoped>\n",
       "    .dataframe tbody tr th:only-of-type {\n",
       "        vertical-align: middle;\n",
       "    }\n",
       "\n",
       "    .dataframe tbody tr th {\n",
       "        vertical-align: top;\n",
       "    }\n",
       "\n",
       "    .dataframe thead th {\n",
       "        text-align: right;\n",
       "    }\n",
       "</style>\n",
       "<table border=\"1\" class=\"dataframe\">\n",
       "  <thead>\n",
       "    <tr style=\"text-align: right;\">\n",
       "      <th></th>\n",
       "      <th>amount</th>\n",
       "      <th>fraud</th>\n",
       "    </tr>\n",
       "  </thead>\n",
       "  <tbody>\n",
       "    <tr>\n",
       "      <th>count</th>\n",
       "      <td>594643.000000</td>\n",
       "      <td>594643.000000</td>\n",
       "    </tr>\n",
       "    <tr>\n",
       "      <th>mean</th>\n",
       "      <td>37.890135</td>\n",
       "      <td>0.012108</td>\n",
       "    </tr>\n",
       "    <tr>\n",
       "      <th>std</th>\n",
       "      <td>111.402831</td>\n",
       "      <td>0.109369</td>\n",
       "    </tr>\n",
       "    <tr>\n",
       "      <th>min</th>\n",
       "      <td>0.000000</td>\n",
       "      <td>0.000000</td>\n",
       "    </tr>\n",
       "    <tr>\n",
       "      <th>25%</th>\n",
       "      <td>13.740000</td>\n",
       "      <td>0.000000</td>\n",
       "    </tr>\n",
       "    <tr>\n",
       "      <th>50%</th>\n",
       "      <td>26.900000</td>\n",
       "      <td>0.000000</td>\n",
       "    </tr>\n",
       "    <tr>\n",
       "      <th>75%</th>\n",
       "      <td>42.540000</td>\n",
       "      <td>0.000000</td>\n",
       "    </tr>\n",
       "    <tr>\n",
       "      <th>90%</th>\n",
       "      <td>60.190000</td>\n",
       "      <td>0.000000</td>\n",
       "    </tr>\n",
       "    <tr>\n",
       "      <th>95%</th>\n",
       "      <td>79.280000</td>\n",
       "      <td>0.000000</td>\n",
       "    </tr>\n",
       "    <tr>\n",
       "      <th>99%</th>\n",
       "      <td>236.755800</td>\n",
       "      <td>1.000000</td>\n",
       "    </tr>\n",
       "    <tr>\n",
       "      <th>max</th>\n",
       "      <td>8329.960000</td>\n",
       "      <td>1.000000</td>\n",
       "    </tr>\n",
       "  </tbody>\n",
       "</table>\n",
       "</div>"
      ],
      "text/plain": [
       "              amount          fraud\n",
       "count  594643.000000  594643.000000\n",
       "mean       37.890135       0.012108\n",
       "std       111.402831       0.109369\n",
       "min         0.000000       0.000000\n",
       "25%        13.740000       0.000000\n",
       "50%        26.900000       0.000000\n",
       "75%        42.540000       0.000000\n",
       "90%        60.190000       0.000000\n",
       "95%        79.280000       0.000000\n",
       "99%       236.755800       1.000000\n",
       "max      8329.960000       1.000000"
      ]
     },
     "execution_count": 22,
     "metadata": {},
     "output_type": "execute_result"
    }
   ],
   "source": [
    "# Checking outliers at 25%, 50%, 75%, 90%, 95% and 99%\n",
    "num_BankSim_df.describe(percentiles=[.25, .5, .75, .90, .95, .99])"
   ]
  },
  {
   "cell_type": "code",
   "execution_count": 23,
   "metadata": {},
   "outputs": [],
   "source": [
    "# removing (statistical) outliers\n",
    "Q1 = BankSim_df.amount.quantile(0.05)\n",
    "Q3 = BankSim_df.amount.quantile(0.95)\n",
    "IQR = Q3 - Q1\n",
    "BankSim_df = BankSim_df[(BankSim_df.amount >= Q1 - 1.5*IQR) & (BankSim_df.amount <= Q3 + 1.5*IQR)]"
   ]
  },
  {
   "cell_type": "code",
   "execution_count": 24,
   "metadata": {},
   "outputs": [
    {
     "data": {
      "text/plain": [
       "customer                         0.0\n",
       "amount                           0.0\n",
       "fraud                            0.0\n",
       "gender_F                         0.0\n",
       "gender_M                         0.0\n",
       "gender_U                         0.0\n",
       "category_es_contents             0.0\n",
       "category_es_fashion              0.0\n",
       "category_es_food                 0.0\n",
       "category_es_health               0.0\n",
       "category_es_home                 0.0\n",
       "category_es_hotelservices        0.0\n",
       "category_es_hyper                0.0\n",
       "category_es_leisure              0.0\n",
       "category_es_otherservices        0.0\n",
       "category_es_sportsandtoys        0.0\n",
       "category_es_tech                 0.0\n",
       "category_es_transportation       0.0\n",
       "category_es_travel               0.0\n",
       "category_es_wellnessandbeauty    0.0\n",
       "age_1                            0.0\n",
       "age_2                            0.0\n",
       "age_3                            0.0\n",
       "age_4                            0.0\n",
       "age_5                            0.0\n",
       "age_6                            0.0\n",
       "age_U                            0.0\n",
       "dtype: float64"
      ]
     },
     "execution_count": 24,
     "metadata": {},
     "output_type": "execute_result"
    }
   ],
   "source": [
    "# Checking the percentage of missing values\n",
    "round(100*(BankSim_df.isnull().sum()/len(BankSim_df.index)), 2)"
   ]
  },
  {
   "cell_type": "markdown",
   "metadata": {},
   "source": [
    "- No NULL value is present in data frame"
   ]
  },
  {
   "cell_type": "markdown",
   "metadata": {},
   "source": [
    "#### Test-Train Split"
   ]
  },
  {
   "cell_type": "code",
   "execution_count": 25,
   "metadata": {},
   "outputs": [],
   "source": [
    "from sklearn.model_selection import train_test_split"
   ]
  },
  {
   "cell_type": "code",
   "execution_count": 26,
   "metadata": {},
   "outputs": [
    {
     "data": {
      "text/plain": [
       "(586596, 25)"
      ]
     },
     "execution_count": 26,
     "metadata": {},
     "output_type": "execute_result"
    }
   ],
   "source": [
    "#  feature variable to X\n",
    "X = BankSim_df.drop(['fraud','customer'], axis=1)\n",
    "X.shape"
   ]
  },
  {
   "cell_type": "code",
   "execution_count": 27,
   "metadata": {},
   "outputs": [
    {
     "data": {
      "text/plain": [
       "(586596,)"
      ]
     },
     "execution_count": 27,
     "metadata": {},
     "output_type": "execute_result"
    }
   ],
   "source": [
    "# Putting response variable to y\n",
    "y = BankSim_df['fraud']\n",
    "\n",
    "y.shape"
   ]
  },
  {
   "cell_type": "code",
   "execution_count": 28,
   "metadata": {},
   "outputs": [],
   "source": [
    "# Splitting the data into train and test\n",
    "X_train, X_test, y_train, y_test = train_test_split(X, y, train_size=0.7, test_size=0.3, random_state=100)"
   ]
  },
  {
   "cell_type": "markdown",
   "metadata": {},
   "source": [
    "### Feature Scaling"
   ]
  },
  {
   "cell_type": "code",
   "execution_count": 29,
   "metadata": {},
   "outputs": [],
   "source": [
    "from sklearn.preprocessing import StandardScaler"
   ]
  },
  {
   "cell_type": "code",
   "execution_count": 30,
   "metadata": {},
   "outputs": [
    {
     "data": {
      "text/plain": [
       "(410617, 25)"
      ]
     },
     "execution_count": 30,
     "metadata": {},
     "output_type": "execute_result"
    }
   ],
   "source": [
    "scaler = StandardScaler()\n",
    "\n",
    "X_train[['amount']] = scaler.fit_transform(X_train[['amount']])\n",
    "\n",
    "X_train.shape"
   ]
  },
  {
   "cell_type": "code",
   "execution_count": 31,
   "metadata": {},
   "outputs": [
    {
     "data": {
      "text/plain": [
       "0.37027187365750874"
      ]
     },
     "execution_count": 31,
     "metadata": {},
     "output_type": "execute_result"
    }
   ],
   "source": [
    "### Checking the Fraud Rate\n",
    "fraud = (sum(BankSim_df['fraud'])/len(BankSim_df['fraud'].index))*100\n",
    "fraud"
   ]
  },
  {
   "cell_type": "markdown",
   "metadata": {},
   "source": [
    "We have almost 37% fraud rate"
   ]
  },
  {
   "cell_type": "markdown",
   "metadata": {},
   "source": [
    "### Looking at Correlations"
   ]
  },
  {
   "cell_type": "code",
   "execution_count": 32,
   "metadata": {},
   "outputs": [],
   "source": [
    "# Importing matplotlib and seaborn\n",
    "import matplotlib.pyplot as plt\n",
    "import seaborn as sns\n",
    "%matplotlib inline"
   ]
  },
  {
   "cell_type": "code",
   "execution_count": 33,
   "metadata": {},
   "outputs": [
    {
     "data": {
      "image/png": "[encoded data removed]",
      "text/plain": [
       "<Figure size 1440x720 with 2 Axes>"
      ]
     },
     "metadata": {
      "needs_background": "light"
     },
     "output_type": "display_data"
    }
   ],
   "source": [
    "# Let's see the correlation matrix \n",
    "plt.figure(figsize = (20,10))        # Size of the figure\n",
    "sns.heatmap(BankSim_df.corr(),annot = True)\n",
    "plt.show()"
   ]
  },
  {
   "cell_type": "markdown",
   "metadata": {},
   "source": [
    "### Model Building\n",
    "Let's start by splitting our data into a training set and a test set."
   ]
  },
  {
   "cell_type": "markdown",
   "metadata": {},
   "source": [
    "Running Your First Training Model"
   ]
  },
  {
   "cell_type": "code",
   "execution_count": 34,
   "metadata": {},
   "outputs": [],
   "source": [
    "import statsmodels.api as sm"
   ]
  },
  {
   "cell_type": "code",
   "execution_count": 35,
   "metadata": {},
   "outputs": [
    {
     "data": {
      "text/html": [
       "<table class=\"simpletable\">\n",
       "<caption>Generalized Linear Model Regression Results</caption>\n",
       "<tr>\n",
       "  <th>Dep. Variable:</th>         <td>fraud</td>      <th>  No. Observations:  </th>  <td>410617</td> \n",
       "</tr>\n",
       "<tr>\n",
       "  <th>Model:</th>                  <td>GLM</td>       <th>  Df Residuals:      </th>  <td>410592</td> \n",
       "</tr>\n",
       "<tr>\n",
       "  <th>Model Family:</th>        <td>Binomial</td>     <th>  Df Model:          </th>  <td>    24</td> \n",
       "</tr>\n",
       "<tr>\n",
       "  <th>Link Function:</th>         <td>logit</td>      <th>  Scale:             </th> <td>  1.0000</td>\n",
       "</tr>\n",
       "<tr>\n",
       "  <th>Method:</th>                <td>IRLS</td>       <th>  Log-Likelihood:    </th> <td>     nan</td>\n",
       "</tr>\n",
       "<tr>\n",
       "  <th>Date:</th>            <td>Sun, 10 Jan 2021</td> <th>  Deviance:          </th> <td>     nan</td>\n",
       "</tr>\n",
       "<tr>\n",
       "  <th>Time:</th>                <td>19:08:05</td>     <th>  Pearson chi2:      </th> <td>8.56e+18</td>\n",
       "</tr>\n",
       "<tr>\n",
       "  <th>No. Iterations:</th>         <td>100</td>       <th>                     </th>     <td> </td>   \n",
       "</tr>\n",
       "<tr>\n",
       "  <th>Covariance Type:</th>     <td>nonrobust</td>    <th>                     </th>     <td> </td>   \n",
       "</tr>\n",
       "</table>\n",
       "<table class=\"simpletable\">\n",
       "<tr>\n",
       "                <td></td>                   <th>coef</th>     <th>std err</th>      <th>z</th>      <th>P>|z|</th>  <th>[0.025</th>    <th>0.975]</th>  \n",
       "</tr>\n",
       "<tr>\n",
       "  <th>const</th>                         <td>-1.782e+15</td> <td> 1.52e+06</td> <td>-1.17e+09</td> <td> 0.000</td> <td>-1.78e+15</td> <td>-1.78e+15</td>\n",
       "</tr>\n",
       "<tr>\n",
       "  <th>amount</th>                        <td> 2.538e+13</td> <td> 1.19e+05</td> <td> 2.13e+08</td> <td> 0.000</td> <td> 2.54e+13</td> <td> 2.54e+13</td>\n",
       "</tr>\n",
       "<tr>\n",
       "  <th>gender_F</th>                      <td>-3.059e+14</td> <td> 1.09e+06</td> <td> -2.8e+08</td> <td> 0.000</td> <td>-3.06e+14</td> <td>-3.06e+14</td>\n",
       "</tr>\n",
       "<tr>\n",
       "  <th>gender_M</th>                      <td>-3.975e+14</td> <td>  1.1e+06</td> <td>-3.63e+08</td> <td> 0.000</td> <td>-3.97e+14</td> <td>-3.97e+14</td>\n",
       "</tr>\n",
       "<tr>\n",
       "  <th>gender_U</th>                      <td>-2.524e+14</td> <td> 2.93e+06</td> <td> -8.6e+07</td> <td> 0.000</td> <td>-2.52e+14</td> <td>-2.52e+14</td>\n",
       "</tr>\n",
       "<tr>\n",
       "  <th>category_es_contents</th>          <td>-2.461e+15</td> <td>  2.9e+06</td> <td>-8.48e+08</td> <td> 0.000</td> <td>-2.46e+15</td> <td>-2.46e+15</td>\n",
       "</tr>\n",
       "<tr>\n",
       "  <th>category_es_fashion</th>           <td>-5.536e+14</td> <td> 1.43e+06</td> <td>-3.87e+08</td> <td> 0.000</td> <td>-5.54e+14</td> <td>-5.54e+14</td>\n",
       "</tr>\n",
       "<tr>\n",
       "  <th>category_es_food</th>              <td>-2.475e+15</td> <td> 1.12e+06</td> <td>-2.21e+09</td> <td> 0.000</td> <td>-2.48e+15</td> <td>-2.48e+15</td>\n",
       "</tr>\n",
       "<tr>\n",
       "  <th>category_es_health</th>            <td> 1.788e+15</td> <td> 1.24e+06</td> <td> 1.44e+09</td> <td> 0.000</td> <td> 1.79e+15</td> <td> 1.79e+15</td>\n",
       "</tr>\n",
       "<tr>\n",
       "  <th>category_es_home</th>              <td> 1.675e+15</td> <td> 2.31e+06</td> <td> 7.25e+08</td> <td> 0.000</td> <td> 1.67e+15</td> <td> 1.67e+15</td>\n",
       "</tr>\n",
       "<tr>\n",
       "  <th>category_es_hotelservices</th>     <td> 1.976e+15</td> <td> 2.56e+06</td> <td> 7.71e+08</td> <td> 0.000</td> <td> 1.98e+15</td> <td> 1.98e+15</td>\n",
       "</tr>\n",
       "<tr>\n",
       "  <th>category_es_hyper</th>             <td>  1.09e+15</td> <td> 1.44e+06</td> <td> 7.57e+08</td> <td> 0.000</td> <td> 1.09e+15</td> <td> 1.09e+15</td>\n",
       "</tr>\n",
       "<tr>\n",
       "  <th>category_es_leisure</th>           <td> 2.744e+15</td> <td> 9.11e+06</td> <td> 3.01e+08</td> <td> 0.000</td> <td> 2.74e+15</td> <td> 2.74e+15</td>\n",
       "</tr>\n",
       "<tr>\n",
       "  <th>category_es_otherservices</th>     <td>-2.649e+14</td> <td>  3.2e+06</td> <td>-8.29e+07</td> <td> 0.000</td> <td>-2.65e+14</td> <td>-2.65e+14</td>\n",
       "</tr>\n",
       "<tr>\n",
       "  <th>category_es_sportsandtoys</th>     <td> 1.646e+15</td> <td>  1.9e+06</td> <td> 8.66e+08</td> <td> 0.000</td> <td> 1.65e+15</td> <td> 1.65e+15</td>\n",
       "</tr>\n",
       "<tr>\n",
       "  <th>category_es_tech</th>              <td> 6.443e+14</td> <td> 2.09e+06</td> <td> 3.08e+08</td> <td> 0.000</td> <td> 6.44e+14</td> <td> 6.44e+14</td>\n",
       "</tr>\n",
       "<tr>\n",
       "  <th>category_es_transportation</th>    <td>-2.466e+15</td> <td> 1.01e+06</td> <td>-2.43e+09</td> <td> 0.000</td> <td>-2.47e+15</td> <td>-2.47e+15</td>\n",
       "</tr>\n",
       "<tr>\n",
       "  <th>category_es_travel</th>            <td> 2.246e+15</td> <td> 1.17e+07</td> <td> 1.92e+08</td> <td> 0.000</td> <td> 2.25e+15</td> <td> 2.25e+15</td>\n",
       "</tr>\n",
       "<tr>\n",
       "  <th>category_es_wellnessandbeauty</th> <td>  1.86e+15</td> <td> 1.21e+06</td> <td> 1.54e+09</td> <td> 0.000</td> <td> 1.86e+15</td> <td> 1.86e+15</td>\n",
       "</tr>\n",
       "<tr>\n",
       "  <th>age_1</th>                         <td> 1.085e+14</td> <td> 1.67e+06</td> <td> 6.51e+07</td> <td> 0.000</td> <td> 1.09e+14</td> <td> 1.09e+14</td>\n",
       "</tr>\n",
       "<tr>\n",
       "  <th>age_2</th>                         <td> 1.178e+14</td> <td> 1.64e+06</td> <td> 7.16e+07</td> <td> 0.000</td> <td> 1.18e+14</td> <td> 1.18e+14</td>\n",
       "</tr>\n",
       "<tr>\n",
       "  <th>age_3</th>                         <td> 8.537e+13</td> <td> 1.65e+06</td> <td> 5.18e+07</td> <td> 0.000</td> <td> 8.54e+13</td> <td> 8.54e+13</td>\n",
       "</tr>\n",
       "<tr>\n",
       "  <th>age_4</th>                         <td> 1.053e+14</td> <td> 1.65e+06</td> <td> 6.37e+07</td> <td> 0.000</td> <td> 1.05e+14</td> <td> 1.05e+14</td>\n",
       "</tr>\n",
       "<tr>\n",
       "  <th>age_5</th>                         <td>  9.97e+13</td> <td> 1.67e+06</td> <td> 5.99e+07</td> <td> 0.000</td> <td> 9.97e+13</td> <td> 9.97e+13</td>\n",
       "</tr>\n",
       "<tr>\n",
       "  <th>age_6</th>                         <td> 4.168e+13</td> <td> 1.71e+06</td> <td> 2.44e+07</td> <td> 0.000</td> <td> 4.17e+13</td> <td> 4.17e+13</td>\n",
       "</tr>\n",
       "<tr>\n",
       "  <th>age_U</th>                         <td>-8.263e+14</td> <td> 2.25e+06</td> <td>-3.67e+08</td> <td> 0.000</td> <td>-8.26e+14</td> <td>-8.26e+14</td>\n",
       "</tr>\n",
       "</table>"
      ],
      "text/plain": [
       "<class 'statsmodels.iolib.summary.Summary'>\n",
       "\"\"\"\n",
       "                 Generalized Linear Model Regression Results                  \n",
       "==============================================================================\n",
       "Dep. Variable:                  fraud   No. Observations:               410617\n",
       "Model:                            GLM   Df Residuals:                   410592\n",
       "Model Family:                Binomial   Df Model:                           24\n",
       "Link Function:                  logit   Scale:                          1.0000\n",
       "Method:                          IRLS   Log-Likelihood:                    nan\n",
       "Date:                Sun, 10 Jan 2021   Deviance:                          nan\n",
       "Time:                        19:08:05   Pearson chi2:                 8.56e+18\n",
       "No. Iterations:                   100                                         \n",
       "Covariance Type:            nonrobust                                         \n",
       "=================================================================================================\n",
       "                                    coef    std err          z      P>|z|      [0.025      0.975]\n",
       "-------------------------------------------------------------------------------------------------\n",
       "const                         -1.782e+15   1.52e+06  -1.17e+09      0.000   -1.78e+15   -1.78e+15\n",
       "amount                         2.538e+13   1.19e+05   2.13e+08      0.000    2.54e+13    2.54e+13\n",
       "gender_F                      -3.059e+14   1.09e+06   -2.8e+08      0.000   -3.06e+14   -3.06e+14\n",
       "gender_M                      -3.975e+14    1.1e+06  -3.63e+08      0.000   -3.97e+14   -3.97e+14\n",
       "gender_U                      -2.524e+14   2.93e+06   -8.6e+07      0.000   -2.52e+14   -2.52e+14\n",
       "category_es_contents          -2.461e+15    2.9e+06  -8.48e+08      0.000   -2.46e+15   -2.46e+15\n",
       "category_es_fashion           -5.536e+14   1.43e+06  -3.87e+08      0.000   -5.54e+14   -5.54e+14\n",
       "category_es_food              -2.475e+15   1.12e+06  -2.21e+09      0.000   -2.48e+15   -2.48e+15\n",
       "category_es_health             1.788e+15   1.24e+06   1.44e+09      0.000    1.79e+15    1.79e+15\n",
       "category_es_home               1.675e+15   2.31e+06   7.25e+08      0.000    1.67e+15    1.67e+15\n",
       "category_es_hotelservices      1.976e+15   2.56e+06   7.71e+08      0.000    1.98e+15    1.98e+15\n",
       "category_es_hyper               1.09e+15   1.44e+06   7.57e+08      0.000    1.09e+15    1.09e+15\n",
       "category_es_leisure            2.744e+15   9.11e+06   3.01e+08      0.000    2.74e+15    2.74e+15\n",
       "category_es_otherservices     -2.649e+14    3.2e+06  -8.29e+07      0.000   -2.65e+14   -2.65e+14\n",
       "category_es_sportsandtoys      1.646e+15    1.9e+06   8.66e+08      0.000    1.65e+15    1.65e+15\n",
       "category_es_tech               6.443e+14   2.09e+06   3.08e+08      0.000    6.44e+14    6.44e+14\n",
       "category_es_transportation    -2.466e+15   1.01e+06  -2.43e+09      0.000   -2.47e+15   -2.47e+15\n",
       "category_es_travel             2.246e+15   1.17e+07   1.92e+08      0.000    2.25e+15    2.25e+15\n",
       "category_es_wellnessandbeauty   1.86e+15   1.21e+06   1.54e+09      0.000    1.86e+15    1.86e+15\n",
       "age_1                          1.085e+14   1.67e+06   6.51e+07      0.000    1.09e+14    1.09e+14\n",
       "age_2                          1.178e+14   1.64e+06   7.16e+07      0.000    1.18e+14    1.18e+14\n",
       "age_3                          8.537e+13   1.65e+06   5.18e+07      0.000    8.54e+13    8.54e+13\n",
       "age_4                          1.053e+14   1.65e+06   6.37e+07      0.000    1.05e+14    1.05e+14\n",
       "age_5                           9.97e+13   1.67e+06   5.99e+07      0.000    9.97e+13    9.97e+13\n",
       "age_6                          4.168e+13   1.71e+06   2.44e+07      0.000    4.17e+13    4.17e+13\n",
       "age_U                         -8.263e+14   2.25e+06  -3.67e+08      0.000   -8.26e+14   -8.26e+14\n",
       "=================================================================================================\n",
       "\"\"\""
      ]
     },
     "execution_count": 35,
     "metadata": {},
     "output_type": "execute_result"
    }
   ],
   "source": [
    "# Logistic regression model\n",
    "logm1 = sm.GLM(y_train,(sm.add_constant(X_train)), family = sm.families.Binomial())\n",
    "logm1.fit().summary()"
   ]
  },
  {
   "cell_type": "code",
   "execution_count": 36,
   "metadata": {},
   "outputs": [],
   "source": [
    "from sklearn.linear_model import LogisticRegression\n",
    "logreg = LogisticRegression()"
   ]
  },
  {
   "cell_type": "code",
   "execution_count": 37,
   "metadata": {},
   "outputs": [],
   "source": [
    "from sklearn.feature_selection import RFE\n",
    "rfe = RFE(logreg, 15)             # running RFE with 13 variables as output\n",
    "rfe = rfe.fit(X_train, y_train)"
   ]
  },
  {
   "cell_type": "code",
   "execution_count": 38,
   "metadata": {},
   "outputs": [
    {
     "data": {
      "text/plain": [
       "array([False,  True, False, False,  True,  True,  True,  True,  True,\n",
       "        True,  True,  True,  True,  True, False,  True,  True,  True,\n",
       "       False, False, False, False, False, False,  True])"
      ]
     },
     "execution_count": 38,
     "metadata": {},
     "output_type": "execute_result"
    }
   ],
   "source": [
    "rfe.support_"
   ]
  },
  {
   "cell_type": "code",
   "execution_count": 39,
   "metadata": {},
   "outputs": [
    {
     "data": {
      "text/plain": [
       "[('amount', False, 4),\n",
       " ('gender_F', True, 1),\n",
       " ('gender_M', False, 11),\n",
       " ('gender_U', False, 2),\n",
       " ('category_es_contents', True, 1),\n",
       " ('category_es_fashion', True, 1),\n",
       " ('category_es_food', True, 1),\n",
       " ('category_es_health', True, 1),\n",
       " ('category_es_home', True, 1),\n",
       " ('category_es_hotelservices', True, 1),\n",
       " ('category_es_hyper', True, 1),\n",
       " ('category_es_leisure', True, 1),\n",
       " ('category_es_otherservices', True, 1),\n",
       " ('category_es_sportsandtoys', True, 1),\n",
       " ('category_es_tech', False, 3),\n",
       " ('category_es_transportation', True, 1),\n",
       " ('category_es_travel', True, 1),\n",
       " ('category_es_wellnessandbeauty', True, 1),\n",
       " ('age_1', False, 6),\n",
       " ('age_2', False, 5),\n",
       " ('age_3', False, 9),\n",
       " ('age_4', False, 7),\n",
       " ('age_5', False, 8),\n",
       " ('age_6', False, 10),\n",
       " ('age_U', True, 1)]"
      ]
     },
     "execution_count": 39,
     "metadata": {},
     "output_type": "execute_result"
    }
   ],
   "source": [
    "list(zip(X_train.columns, rfe.support_, rfe.ranking_))"
   ]
  },
  {
   "cell_type": "code",
   "execution_count": 40,
   "metadata": {},
   "outputs": [],
   "source": [
    "col = X_train.columns[rfe.support_]"
   ]
  },
  {
   "cell_type": "code",
   "execution_count": 41,
   "metadata": {},
   "outputs": [
    {
     "data": {
      "text/plain": [
       "Index(['amount', 'gender_M', 'gender_U', 'category_es_tech', 'age_1', 'age_2',\n",
       "       'age_3', 'age_4', 'age_5', 'age_6'],\n",
       "      dtype='object')"
      ]
     },
     "execution_count": 41,
     "metadata": {},
     "output_type": "execute_result"
    }
   ],
   "source": [
    "X_train.columns[~rfe.support_]"
   ]
  },
  {
   "cell_type": "markdown",
   "metadata": {},
   "source": [
    "##### Assessing the model with StatsModels"
   ]
  },
  {
   "cell_type": "code",
   "execution_count": 42,
   "metadata": {
    "scrolled": true
   },
   "outputs": [
    {
     "data": {
      "text/html": [
       "<table class=\"simpletable\">\n",
       "<caption>Generalized Linear Model Regression Results</caption>\n",
       "<tr>\n",
       "  <th>Dep. Variable:</th>         <td>fraud</td>      <th>  No. Observations:  </th>  <td>410617</td> \n",
       "</tr>\n",
       "<tr>\n",
       "  <th>Model:</th>                  <td>GLM</td>       <th>  Df Residuals:      </th>  <td>410601</td> \n",
       "</tr>\n",
       "<tr>\n",
       "  <th>Model Family:</th>        <td>Binomial</td>     <th>  Df Model:          </th>  <td>    15</td> \n",
       "</tr>\n",
       "<tr>\n",
       "  <th>Link Function:</th>         <td>logit</td>      <th>  Scale:             </th> <td>  1.0000</td>\n",
       "</tr>\n",
       "<tr>\n",
       "  <th>Method:</th>                <td>IRLS</td>       <th>  Log-Likelihood:    </th> <td> -5390.6</td>\n",
       "</tr>\n",
       "<tr>\n",
       "  <th>Date:</th>            <td>Sun, 10 Jan 2021</td> <th>  Deviance:          </th> <td>  10781.</td>\n",
       "</tr>\n",
       "<tr>\n",
       "  <th>Time:</th>                <td>19:09:19</td>     <th>  Pearson chi2:      </th> <td>3.76e+04</td>\n",
       "</tr>\n",
       "<tr>\n",
       "  <th>No. Iterations:</th>         <td>31</td>        <th>                     </th>     <td> </td>   \n",
       "</tr>\n",
       "<tr>\n",
       "  <th>Covariance Type:</th>     <td>nonrobust</td>    <th>                     </th>     <td> </td>   \n",
       "</tr>\n",
       "</table>\n",
       "<table class=\"simpletable\">\n",
       "<tr>\n",
       "                <td></td>                   <th>coef</th>     <th>std err</th>      <th>z</th>      <th>P>|z|</th>  <th>[0.025</th>    <th>0.975]</th>  \n",
       "</tr>\n",
       "<tr>\n",
       "  <th>const</th>                         <td>   -4.5787</td> <td>    0.120</td> <td>  -38.181</td> <td> 0.000</td> <td>   -4.814</td> <td>   -4.344</td>\n",
       "</tr>\n",
       "<tr>\n",
       "  <th>gender_F</th>                      <td>    0.4808</td> <td>    0.058</td> <td>    8.229</td> <td> 0.000</td> <td>    0.366</td> <td>    0.595</td>\n",
       "</tr>\n",
       "<tr>\n",
       "  <th>category_es_contents</th>          <td>  -28.2478</td> <td> 2.89e+05</td> <td>-9.77e-05</td> <td> 1.000</td> <td>-5.67e+05</td> <td> 5.67e+05</td>\n",
       "</tr>\n",
       "<tr>\n",
       "  <th>category_es_fashion</th>           <td>   -0.3113</td> <td>    0.189</td> <td>   -1.645</td> <td> 0.100</td> <td>   -0.682</td> <td>    0.060</td>\n",
       "</tr>\n",
       "<tr>\n",
       "  <th>category_es_food</th>              <td>  -28.2690</td> <td> 5.28e+04</td> <td>   -0.001</td> <td> 1.000</td> <td>-1.03e+05</td> <td> 1.03e+05</td>\n",
       "</tr>\n",
       "<tr>\n",
       "  <th>category_es_health</th>            <td>    0.9606</td> <td>    0.127</td> <td>    7.572</td> <td> 0.000</td> <td>    0.712</td> <td>    1.209</td>\n",
       "</tr>\n",
       "<tr>\n",
       "  <th>category_es_home</th>              <td>    1.2663</td> <td>    0.185</td> <td>    6.838</td> <td> 0.000</td> <td>    0.903</td> <td>    1.629</td>\n",
       "</tr>\n",
       "<tr>\n",
       "  <th>category_es_hotelservices</th>     <td>    2.2202</td> <td>    0.159</td> <td>   13.962</td> <td> 0.000</td> <td>    1.909</td> <td>    2.532</td>\n",
       "</tr>\n",
       "<tr>\n",
       "  <th>category_es_hyper</th>             <td>    0.8248</td> <td>    0.145</td> <td>    5.704</td> <td> 0.000</td> <td>    0.541</td> <td>    1.108</td>\n",
       "</tr>\n",
       "<tr>\n",
       "  <th>category_es_leisure</th>           <td>    5.1836</td> <td>    0.319</td> <td>   16.226</td> <td> 0.000</td> <td>    4.557</td> <td>    5.810</td>\n",
       "</tr>\n",
       "<tr>\n",
       "  <th>category_es_otherservices</th>     <td>    2.1801</td> <td>    0.185</td> <td>   11.804</td> <td> 0.000</td> <td>    1.818</td> <td>    2.542</td>\n",
       "</tr>\n",
       "<tr>\n",
       "  <th>category_es_sportsandtoys</th>     <td>    3.2071</td> <td>    0.126</td> <td>   25.444</td> <td> 0.000</td> <td>    2.960</td> <td>    3.454</td>\n",
       "</tr>\n",
       "<tr>\n",
       "  <th>category_es_transportation</th>    <td>  -28.2690</td> <td>  1.2e+04</td> <td>   -0.002</td> <td> 0.998</td> <td>-2.35e+04</td> <td> 2.35e+04</td>\n",
       "</tr>\n",
       "<tr>\n",
       "  <th>category_es_travel</th>            <td>    3.8502</td> <td>    0.376</td> <td>   10.239</td> <td> 0.000</td> <td>    3.113</td> <td>    4.587</td>\n",
       "</tr>\n",
       "<tr>\n",
       "  <th>category_es_wellnessandbeauty</th> <td>    0.5145</td> <td>    0.131</td> <td>    3.914</td> <td> 0.000</td> <td>    0.257</td> <td>    0.772</td>\n",
       "</tr>\n",
       "<tr>\n",
       "  <th>age_U</th>                         <td>  -26.5240</td> <td> 2.03e+05</td> <td>   -0.000</td> <td> 1.000</td> <td>-3.98e+05</td> <td> 3.98e+05</td>\n",
       "</tr>\n",
       "</table>"
      ],
      "text/plain": [
       "<class 'statsmodels.iolib.summary.Summary'>\n",
       "\"\"\"\n",
       "                 Generalized Linear Model Regression Results                  \n",
       "==============================================================================\n",
       "Dep. Variable:                  fraud   No. Observations:               410617\n",
       "Model:                            GLM   Df Residuals:                   410601\n",
       "Model Family:                Binomial   Df Model:                           15\n",
       "Link Function:                  logit   Scale:                          1.0000\n",
       "Method:                          IRLS   Log-Likelihood:                -5390.6\n",
       "Date:                Sun, 10 Jan 2021   Deviance:                       10781.\n",
       "Time:                        19:09:19   Pearson chi2:                 3.76e+04\n",
       "No. Iterations:                    31                                         \n",
       "Covariance Type:            nonrobust                                         \n",
       "=================================================================================================\n",
       "                                    coef    std err          z      P>|z|      [0.025      0.975]\n",
       "-------------------------------------------------------------------------------------------------\n",
       "const                            -4.5787      0.120    -38.181      0.000      -4.814      -4.344\n",
       "gender_F                          0.4808      0.058      8.229      0.000       0.366       0.595\n",
       "category_es_contents            -28.2478   2.89e+05  -9.77e-05      1.000   -5.67e+05    5.67e+05\n",
       "category_es_fashion              -0.3113      0.189     -1.645      0.100      -0.682       0.060\n",
       "category_es_food                -28.2690   5.28e+04     -0.001      1.000   -1.03e+05    1.03e+05\n",
       "category_es_health                0.9606      0.127      7.572      0.000       0.712       1.209\n",
       "category_es_home                  1.2663      0.185      6.838      0.000       0.903       1.629\n",
       "category_es_hotelservices         2.2202      0.159     13.962      0.000       1.909       2.532\n",
       "category_es_hyper                 0.8248      0.145      5.704      0.000       0.541       1.108\n",
       "category_es_leisure               5.1836      0.319     16.226      0.000       4.557       5.810\n",
       "category_es_otherservices         2.1801      0.185     11.804      0.000       1.818       2.542\n",
       "category_es_sportsandtoys         3.2071      0.126     25.444      0.000       2.960       3.454\n",
       "category_es_transportation      -28.2690    1.2e+04     -0.002      0.998   -2.35e+04    2.35e+04\n",
       "category_es_travel                3.8502      0.376     10.239      0.000       3.113       4.587\n",
       "category_es_wellnessandbeauty     0.5145      0.131      3.914      0.000       0.257       0.772\n",
       "age_U                           -26.5240   2.03e+05     -0.000      1.000   -3.98e+05    3.98e+05\n",
       "=================================================================================================\n",
       "\"\"\""
      ]
     },
     "execution_count": 42,
     "metadata": {},
     "output_type": "execute_result"
    }
   ],
   "source": [
    "X_train_sm = sm.add_constant(X_train[col])\n",
    "logm2 = sm.GLM(y_train,X_train_sm, family = sm.families.Binomial())\n",
    "res = logm2.fit()\n",
    "res.summary()"
   ]
  },
  {
   "cell_type": "code",
   "execution_count": 43,
   "metadata": {
    "scrolled": true
   },
   "outputs": [
    {
     "data": {
      "text/html": [
       "<div>\n",
       "<style scoped>\n",
       "    .dataframe tbody tr th:only-of-type {\n",
       "        vertical-align: middle;\n",
       "    }\n",
       "\n",
       "    .dataframe tbody tr th {\n",
       "        vertical-align: top;\n",
       "    }\n",
       "\n",
       "    .dataframe thead th {\n",
       "        text-align: right;\n",
       "    }\n",
       "</style>\n",
       "<table border=\"1\" class=\"dataframe\">\n",
       "  <thead>\n",
       "    <tr style=\"text-align: right;\">\n",
       "      <th></th>\n",
       "      <th>Features</th>\n",
       "      <th>VIF</th>\n",
       "    </tr>\n",
       "  </thead>\n",
       "  <tbody>\n",
       "    <tr>\n",
       "      <th>8</th>\n",
       "      <td>category_es_leisure</td>\n",
       "      <td>1.00</td>\n",
       "    </tr>\n",
       "    <tr>\n",
       "      <th>12</th>\n",
       "      <td>category_es_travel</td>\n",
       "      <td>1.00</td>\n",
       "    </tr>\n",
       "    <tr>\n",
       "      <th>9</th>\n",
       "      <td>category_es_otherservices</td>\n",
       "      <td>0.48</td>\n",
       "    </tr>\n",
       "    <tr>\n",
       "      <th>1</th>\n",
       "      <td>category_es_contents</td>\n",
       "      <td>0.16</td>\n",
       "    </tr>\n",
       "    <tr>\n",
       "      <th>10</th>\n",
       "      <td>category_es_sportsandtoys</td>\n",
       "      <td>0.13</td>\n",
       "    </tr>\n",
       "    <tr>\n",
       "      <th>6</th>\n",
       "      <td>category_es_hotelservices</td>\n",
       "      <td>0.06</td>\n",
       "    </tr>\n",
       "    <tr>\n",
       "      <th>14</th>\n",
       "      <td>age_U</td>\n",
       "      <td>0.05</td>\n",
       "    </tr>\n",
       "    <tr>\n",
       "      <th>5</th>\n",
       "      <td>category_es_home</td>\n",
       "      <td>0.03</td>\n",
       "    </tr>\n",
       "    <tr>\n",
       "      <th>7</th>\n",
       "      <td>category_es_hyper</td>\n",
       "      <td>0.03</td>\n",
       "    </tr>\n",
       "    <tr>\n",
       "      <th>4</th>\n",
       "      <td>category_es_health</td>\n",
       "      <td>0.02</td>\n",
       "    </tr>\n",
       "    <tr>\n",
       "      <th>2</th>\n",
       "      <td>category_es_fashion</td>\n",
       "      <td>0.01</td>\n",
       "    </tr>\n",
       "    <tr>\n",
       "      <th>0</th>\n",
       "      <td>gender_F</td>\n",
       "      <td>0.00</td>\n",
       "    </tr>\n",
       "    <tr>\n",
       "      <th>3</th>\n",
       "      <td>category_es_food</td>\n",
       "      <td>0.00</td>\n",
       "    </tr>\n",
       "    <tr>\n",
       "      <th>11</th>\n",
       "      <td>category_es_transportation</td>\n",
       "      <td>0.00</td>\n",
       "    </tr>\n",
       "    <tr>\n",
       "      <th>13</th>\n",
       "      <td>category_es_wellnessandbeauty</td>\n",
       "      <td>0.00</td>\n",
       "    </tr>\n",
       "  </tbody>\n",
       "</table>\n",
       "</div>"
      ],
      "text/plain": [
       "                         Features   VIF\n",
       "8             category_es_leisure  1.00\n",
       "12             category_es_travel  1.00\n",
       "9       category_es_otherservices  0.48\n",
       "1            category_es_contents  0.16\n",
       "10      category_es_sportsandtoys  0.13\n",
       "6       category_es_hotelservices  0.06\n",
       "14                          age_U  0.05\n",
       "5                category_es_home  0.03\n",
       "7               category_es_hyper  0.03\n",
       "4              category_es_health  0.02\n",
       "2             category_es_fashion  0.01\n",
       "0                        gender_F  0.00\n",
       "3                category_es_food  0.00\n",
       "11     category_es_transportation  0.00\n",
       "13  category_es_wellnessandbeauty  0.00"
      ]
     },
     "execution_count": 43,
     "metadata": {},
     "output_type": "execute_result"
    }
   ],
   "source": [
    "# Let's now check the VIFs \n",
    "from statsmodels.stats.outliers_influence import variance_inflation_factor\n",
    "vif = pd.DataFrame()\n",
    "vif['Features'] = X_train[col].columns\n",
    "vif['VIF'] = [variance_inflation_factor(X_train[col].values, i) for i in range(X_train[col].shape[1])]\n",
    "vif['VIF'] = round(vif['VIF'], 2)\n",
    "vif = vif.sort_values(by = \"VIF\", ascending = False)\n",
    "vif"
   ]
  },
  {
   "cell_type": "code",
   "execution_count": 44,
   "metadata": {},
   "outputs": [
    {
     "data": {
      "text/plain": [
       "Index(['gender_F', 'category_es_fashion', 'category_es_food',\n",
       "       'category_es_health', 'category_es_home', 'category_es_hotelservices',\n",
       "       'category_es_hyper', 'category_es_leisure', 'category_es_otherservices',\n",
       "       'category_es_sportsandtoys', 'category_es_transportation',\n",
       "       'category_es_travel', 'category_es_wellnessandbeauty', 'age_U'],\n",
       "      dtype='object')"
      ]
     },
     "execution_count": 44,
     "metadata": {},
     "output_type": "execute_result"
    }
   ],
   "source": [
    "col = col.drop('category_es_contents', 1)\n",
    "col"
   ]
  },
  {
   "cell_type": "code",
   "execution_count": 45,
   "metadata": {
    "scrolled": true
   },
   "outputs": [
    {
     "data": {
      "text/html": [
       "<table class=\"simpletable\">\n",
       "<caption>Generalized Linear Model Regression Results</caption>\n",
       "<tr>\n",
       "  <th>Dep. Variable:</th>         <td>fraud</td>      <th>  No. Observations:  </th>  <td>410617</td> \n",
       "</tr>\n",
       "<tr>\n",
       "  <th>Model:</th>                  <td>GLM</td>       <th>  Df Residuals:      </th>  <td>410602</td> \n",
       "</tr>\n",
       "<tr>\n",
       "  <th>Model Family:</th>        <td>Binomial</td>     <th>  Df Model:          </th>  <td>    14</td> \n",
       "</tr>\n",
       "<tr>\n",
       "  <th>Link Function:</th>         <td>logit</td>      <th>  Scale:             </th> <td>  1.0000</td>\n",
       "</tr>\n",
       "<tr>\n",
       "  <th>Method:</th>                <td>IRLS</td>       <th>  Log-Likelihood:    </th> <td> -5398.3</td>\n",
       "</tr>\n",
       "<tr>\n",
       "  <th>Date:</th>            <td>Sun, 10 Jan 2021</td> <th>  Deviance:          </th> <td>  10797.</td>\n",
       "</tr>\n",
       "<tr>\n",
       "  <th>Time:</th>                <td>19:09:42</td>     <th>  Pearson chi2:      </th> <td>3.82e+04</td>\n",
       "</tr>\n",
       "<tr>\n",
       "  <th>No. Iterations:</th>         <td>31</td>        <th>                     </th>     <td> </td>   \n",
       "</tr>\n",
       "<tr>\n",
       "  <th>Covariance Type:</th>     <td>nonrobust</td>    <th>                     </th>     <td> </td>   \n",
       "</tr>\n",
       "</table>\n",
       "<table class=\"simpletable\">\n",
       "<tr>\n",
       "                <td></td>                   <th>coef</th>     <th>std err</th>      <th>z</th>      <th>P>|z|</th>  <th>[0.025</th>    <th>0.975]</th>  \n",
       "</tr>\n",
       "<tr>\n",
       "  <th>const</th>                         <td>   -4.6776</td> <td>    0.120</td> <td>  -39.055</td> <td> 0.000</td> <td>   -4.912</td> <td>   -4.443</td>\n",
       "</tr>\n",
       "<tr>\n",
       "  <th>gender_F</th>                      <td>    0.4820</td> <td>    0.058</td> <td>    8.249</td> <td> 0.000</td> <td>    0.367</td> <td>    0.596</td>\n",
       "</tr>\n",
       "<tr>\n",
       "  <th>category_es_fashion</th>           <td>   -0.2132</td> <td>    0.189</td> <td>   -1.127</td> <td> 0.260</td> <td>   -0.584</td> <td>    0.158</td>\n",
       "</tr>\n",
       "<tr>\n",
       "  <th>category_es_food</th>              <td>  -28.1708</td> <td> 5.28e+04</td> <td>   -0.001</td> <td> 1.000</td> <td>-1.03e+05</td> <td> 1.03e+05</td>\n",
       "</tr>\n",
       "<tr>\n",
       "  <th>category_es_health</th>            <td>    1.0588</td> <td>    0.127</td> <td>    8.350</td> <td> 0.000</td> <td>    0.810</td> <td>    1.307</td>\n",
       "</tr>\n",
       "<tr>\n",
       "  <th>category_es_home</th>              <td>    1.3645</td> <td>    0.185</td> <td>    7.370</td> <td> 0.000</td> <td>    1.002</td> <td>    1.727</td>\n",
       "</tr>\n",
       "<tr>\n",
       "  <th>category_es_hotelservices</th>     <td>    2.3184</td> <td>    0.159</td> <td>   14.585</td> <td> 0.000</td> <td>    2.007</td> <td>    2.630</td>\n",
       "</tr>\n",
       "<tr>\n",
       "  <th>category_es_hyper</th>             <td>    0.9230</td> <td>    0.145</td> <td>    6.386</td> <td> 0.000</td> <td>    0.640</td> <td>    1.206</td>\n",
       "</tr>\n",
       "<tr>\n",
       "  <th>category_es_leisure</th>           <td>    5.2819</td> <td>    0.319</td> <td>   16.535</td> <td> 0.000</td> <td>    4.656</td> <td>    5.908</td>\n",
       "</tr>\n",
       "<tr>\n",
       "  <th>category_es_otherservices</th>     <td>    2.2783</td> <td>    0.185</td> <td>   12.339</td> <td> 0.000</td> <td>    1.916</td> <td>    2.640</td>\n",
       "</tr>\n",
       "<tr>\n",
       "  <th>category_es_sportsandtoys</th>     <td>    3.3053</td> <td>    0.126</td> <td>   26.238</td> <td> 0.000</td> <td>    3.058</td> <td>    3.552</td>\n",
       "</tr>\n",
       "<tr>\n",
       "  <th>category_es_transportation</th>    <td>  -28.1708</td> <td>  1.2e+04</td> <td>   -0.002</td> <td> 0.998</td> <td>-2.35e+04</td> <td> 2.35e+04</td>\n",
       "</tr>\n",
       "<tr>\n",
       "  <th>category_es_travel</th>            <td>    3.9485</td> <td>    0.376</td> <td>   10.500</td> <td> 0.000</td> <td>    3.211</td> <td>    4.685</td>\n",
       "</tr>\n",
       "<tr>\n",
       "  <th>category_es_wellnessandbeauty</th> <td>    0.6127</td> <td>    0.131</td> <td>    4.664</td> <td> 0.000</td> <td>    0.355</td> <td>    0.870</td>\n",
       "</tr>\n",
       "<tr>\n",
       "  <th>age_U</th>                         <td>  -26.5311</td> <td> 2.03e+05</td> <td>   -0.000</td> <td> 1.000</td> <td>-3.98e+05</td> <td> 3.98e+05</td>\n",
       "</tr>\n",
       "</table>"
      ],
      "text/plain": [
       "<class 'statsmodels.iolib.summary.Summary'>\n",
       "\"\"\"\n",
       "                 Generalized Linear Model Regression Results                  \n",
       "==============================================================================\n",
       "Dep. Variable:                  fraud   No. Observations:               410617\n",
       "Model:                            GLM   Df Residuals:                   410602\n",
       "Model Family:                Binomial   Df Model:                           14\n",
       "Link Function:                  logit   Scale:                          1.0000\n",
       "Method:                          IRLS   Log-Likelihood:                -5398.3\n",
       "Date:                Sun, 10 Jan 2021   Deviance:                       10797.\n",
       "Time:                        19:09:42   Pearson chi2:                 3.82e+04\n",
       "No. Iterations:                    31                                         \n",
       "Covariance Type:            nonrobust                                         \n",
       "=================================================================================================\n",
       "                                    coef    std err          z      P>|z|      [0.025      0.975]\n",
       "-------------------------------------------------------------------------------------------------\n",
       "const                            -4.6776      0.120    -39.055      0.000      -4.912      -4.443\n",
       "gender_F                          0.4820      0.058      8.249      0.000       0.367       0.596\n",
       "category_es_fashion              -0.2132      0.189     -1.127      0.260      -0.584       0.158\n",
       "category_es_food                -28.1708   5.28e+04     -0.001      1.000   -1.03e+05    1.03e+05\n",
       "category_es_health                1.0588      0.127      8.350      0.000       0.810       1.307\n",
       "category_es_home                  1.3645      0.185      7.370      0.000       1.002       1.727\n",
       "category_es_hotelservices         2.3184      0.159     14.585      0.000       2.007       2.630\n",
       "category_es_hyper                 0.9230      0.145      6.386      0.000       0.640       1.206\n",
       "category_es_leisure               5.2819      0.319     16.535      0.000       4.656       5.908\n",
       "category_es_otherservices         2.2783      0.185     12.339      0.000       1.916       2.640\n",
       "category_es_sportsandtoys         3.3053      0.126     26.238      0.000       3.058       3.552\n",
       "category_es_transportation      -28.1708    1.2e+04     -0.002      0.998   -2.35e+04    2.35e+04\n",
       "category_es_travel                3.9485      0.376     10.500      0.000       3.211       4.685\n",
       "category_es_wellnessandbeauty     0.6127      0.131      4.664      0.000       0.355       0.870\n",
       "age_U                           -26.5311   2.03e+05     -0.000      1.000   -3.98e+05    3.98e+05\n",
       "=================================================================================================\n",
       "\"\"\""
      ]
     },
     "execution_count": 45,
     "metadata": {},
     "output_type": "execute_result"
    }
   ],
   "source": [
    "X_train_sm = sm.add_constant(X_train[col])\n",
    "logm3 = sm.GLM(y_train,X_train_sm, family = sm.families.Binomial())\n",
    "res = logm3.fit()\n",
    "res.summary()"
   ]
  },
  {
   "cell_type": "code",
   "execution_count": 46,
   "metadata": {
    "scrolled": true
   },
   "outputs": [
    {
     "data": {
      "text/html": [
       "<div>\n",
       "<style scoped>\n",
       "    .dataframe tbody tr th:only-of-type {\n",
       "        vertical-align: middle;\n",
       "    }\n",
       "\n",
       "    .dataframe tbody tr th {\n",
       "        vertical-align: top;\n",
       "    }\n",
       "\n",
       "    .dataframe thead th {\n",
       "        text-align: right;\n",
       "    }\n",
       "</style>\n",
       "<table border=\"1\" class=\"dataframe\">\n",
       "  <thead>\n",
       "    <tr style=\"text-align: right;\">\n",
       "      <th></th>\n",
       "      <th>Features</th>\n",
       "      <th>VIF</th>\n",
       "    </tr>\n",
       "  </thead>\n",
       "  <tbody>\n",
       "    <tr>\n",
       "      <th>7</th>\n",
       "      <td>category_es_leisure</td>\n",
       "      <td>1.00</td>\n",
       "    </tr>\n",
       "    <tr>\n",
       "      <th>11</th>\n",
       "      <td>category_es_travel</td>\n",
       "      <td>1.00</td>\n",
       "    </tr>\n",
       "    <tr>\n",
       "      <th>8</th>\n",
       "      <td>category_es_otherservices</td>\n",
       "      <td>0.48</td>\n",
       "    </tr>\n",
       "    <tr>\n",
       "      <th>9</th>\n",
       "      <td>category_es_sportsandtoys</td>\n",
       "      <td>0.13</td>\n",
       "    </tr>\n",
       "    <tr>\n",
       "      <th>5</th>\n",
       "      <td>category_es_hotelservices</td>\n",
       "      <td>0.06</td>\n",
       "    </tr>\n",
       "    <tr>\n",
       "      <th>13</th>\n",
       "      <td>age_U</td>\n",
       "      <td>0.05</td>\n",
       "    </tr>\n",
       "    <tr>\n",
       "      <th>4</th>\n",
       "      <td>category_es_home</td>\n",
       "      <td>0.03</td>\n",
       "    </tr>\n",
       "    <tr>\n",
       "      <th>6</th>\n",
       "      <td>category_es_hyper</td>\n",
       "      <td>0.03</td>\n",
       "    </tr>\n",
       "    <tr>\n",
       "      <th>3</th>\n",
       "      <td>category_es_health</td>\n",
       "      <td>0.02</td>\n",
       "    </tr>\n",
       "    <tr>\n",
       "      <th>1</th>\n",
       "      <td>category_es_fashion</td>\n",
       "      <td>0.01</td>\n",
       "    </tr>\n",
       "    <tr>\n",
       "      <th>0</th>\n",
       "      <td>gender_F</td>\n",
       "      <td>0.00</td>\n",
       "    </tr>\n",
       "    <tr>\n",
       "      <th>2</th>\n",
       "      <td>category_es_food</td>\n",
       "      <td>0.00</td>\n",
       "    </tr>\n",
       "    <tr>\n",
       "      <th>10</th>\n",
       "      <td>category_es_transportation</td>\n",
       "      <td>0.00</td>\n",
       "    </tr>\n",
       "    <tr>\n",
       "      <th>12</th>\n",
       "      <td>category_es_wellnessandbeauty</td>\n",
       "      <td>0.00</td>\n",
       "    </tr>\n",
       "  </tbody>\n",
       "</table>\n",
       "</div>"
      ],
      "text/plain": [
       "                         Features   VIF\n",
       "7             category_es_leisure  1.00\n",
       "11             category_es_travel  1.00\n",
       "8       category_es_otherservices  0.48\n",
       "9       category_es_sportsandtoys  0.13\n",
       "5       category_es_hotelservices  0.06\n",
       "13                          age_U  0.05\n",
       "4                category_es_home  0.03\n",
       "6               category_es_hyper  0.03\n",
       "3              category_es_health  0.02\n",
       "1             category_es_fashion  0.01\n",
       "0                        gender_F  0.00\n",
       "2                category_es_food  0.00\n",
       "10     category_es_transportation  0.00\n",
       "12  category_es_wellnessandbeauty  0.00"
      ]
     },
     "execution_count": 46,
     "metadata": {},
     "output_type": "execute_result"
    }
   ],
   "source": [
    "vif = pd.DataFrame()\n",
    "vif['Features'] = X_train[col].columns\n",
    "vif['VIF'] = [variance_inflation_factor(X_train[col].values, i) for i in range(X_train[col].shape[1])]\n",
    "vif['VIF'] = round(vif['VIF'], 2)\n",
    "vif = vif.sort_values(by = \"VIF\", ascending = False)\n",
    "vif"
   ]
  },
  {
   "cell_type": "code",
   "execution_count": 47,
   "metadata": {},
   "outputs": [
    {
     "data": {
      "text/plain": [
       "Index(['gender_F', 'category_es_fashion', 'category_es_health',\n",
       "       'category_es_home', 'category_es_hotelservices', 'category_es_hyper',\n",
       "       'category_es_leisure', 'category_es_otherservices',\n",
       "       'category_es_sportsandtoys', 'category_es_transportation',\n",
       "       'category_es_travel', 'category_es_wellnessandbeauty', 'age_U'],\n",
       "      dtype='object')"
      ]
     },
     "execution_count": 47,
     "metadata": {},
     "output_type": "execute_result"
    }
   ],
   "source": [
    "col = col.drop('category_es_food')\n",
    "col"
   ]
  },
  {
   "cell_type": "code",
   "execution_count": 48,
   "metadata": {},
   "outputs": [
    {
     "data": {
      "text/html": [
       "<table class=\"simpletable\">\n",
       "<caption>Generalized Linear Model Regression Results</caption>\n",
       "<tr>\n",
       "  <th>Dep. Variable:</th>         <td>fraud</td>      <th>  No. Observations:  </th>  <td>410617</td> \n",
       "</tr>\n",
       "<tr>\n",
       "  <th>Model:</th>                  <td>GLM</td>       <th>  Df Residuals:      </th>  <td>410603</td> \n",
       "</tr>\n",
       "<tr>\n",
       "  <th>Model Family:</th>        <td>Binomial</td>     <th>  Df Model:          </th>  <td>    13</td> \n",
       "</tr>\n",
       "<tr>\n",
       "  <th>Link Function:</th>         <td>logit</td>      <th>  Scale:             </th> <td>  1.0000</td>\n",
       "</tr>\n",
       "<tr>\n",
       "  <th>Method:</th>                <td>IRLS</td>       <th>  Log-Likelihood:    </th> <td> -5504.8</td>\n",
       "</tr>\n",
       "<tr>\n",
       "  <th>Date:</th>            <td>Sun, 10 Jan 2021</td> <th>  Deviance:          </th> <td>  11010.</td>\n",
       "</tr>\n",
       "<tr>\n",
       "  <th>Time:</th>                <td>19:10:03</td>     <th>  Pearson chi2:      </th> <td>5.56e+04</td>\n",
       "</tr>\n",
       "<tr>\n",
       "  <th>No. Iterations:</th>         <td>31</td>        <th>                     </th>     <td> </td>   \n",
       "</tr>\n",
       "<tr>\n",
       "  <th>Covariance Type:</th>     <td>nonrobust</td>    <th>                     </th>     <td> </td>   \n",
       "</tr>\n",
       "</table>\n",
       "<table class=\"simpletable\">\n",
       "<tr>\n",
       "                <td></td>                   <th>coef</th>     <th>std err</th>      <th>z</th>      <th>P>|z|</th>  <th>[0.025</th>    <th>0.975]</th>  \n",
       "</tr>\n",
       "<tr>\n",
       "  <th>const</th>                         <td>   -6.0312</td> <td>    0.119</td> <td>  -50.615</td> <td> 0.000</td> <td>   -6.265</td> <td>   -5.798</td>\n",
       "</tr>\n",
       "<tr>\n",
       "  <th>gender_F</th>                      <td>    0.4836</td> <td>    0.058</td> <td>    8.279</td> <td> 0.000</td> <td>    0.369</td> <td>    0.598</td>\n",
       "</tr>\n",
       "<tr>\n",
       "  <th>category_es_fashion</th>           <td>    1.1393</td> <td>    0.189</td> <td>    6.032</td> <td> 0.000</td> <td>    0.769</td> <td>    1.509</td>\n",
       "</tr>\n",
       "<tr>\n",
       "  <th>category_es_health</th>            <td>    2.4113</td> <td>    0.126</td> <td>   19.089</td> <td> 0.000</td> <td>    2.164</td> <td>    2.659</td>\n",
       "</tr>\n",
       "<tr>\n",
       "  <th>category_es_home</th>              <td>    2.7170</td> <td>    0.185</td> <td>   14.701</td> <td> 0.000</td> <td>    2.355</td> <td>    3.079</td>\n",
       "</tr>\n",
       "<tr>\n",
       "  <th>category_es_hotelservices</th>     <td>    3.6709</td> <td>    0.159</td> <td>   23.151</td> <td> 0.000</td> <td>    3.360</td> <td>    3.982</td>\n",
       "</tr>\n",
       "<tr>\n",
       "  <th>category_es_hyper</th>             <td>    2.2755</td> <td>    0.144</td> <td>   15.789</td> <td> 0.000</td> <td>    1.993</td> <td>    2.558</td>\n",
       "</tr>\n",
       "<tr>\n",
       "  <th>category_es_leisure</th>           <td>    6.6345</td> <td>    0.319</td> <td>   20.782</td> <td> 0.000</td> <td>    6.009</td> <td>    7.260</td>\n",
       "</tr>\n",
       "<tr>\n",
       "  <th>category_es_otherservices</th>     <td>    3.6308</td> <td>    0.184</td> <td>   19.700</td> <td> 0.000</td> <td>    3.270</td> <td>    3.992</td>\n",
       "</tr>\n",
       "<tr>\n",
       "  <th>category_es_sportsandtoys</th>     <td>    4.6579</td> <td>    0.125</td> <td>   37.121</td> <td> 0.000</td> <td>    4.412</td> <td>    4.904</td>\n",
       "</tr>\n",
       "<tr>\n",
       "  <th>category_es_transportation</th>    <td>  -26.8182</td> <td>  1.2e+04</td> <td>   -0.002</td> <td> 0.998</td> <td>-2.35e+04</td> <td> 2.35e+04</td>\n",
       "</tr>\n",
       "<tr>\n",
       "  <th>category_es_travel</th>            <td>    5.3010</td> <td>    0.376</td> <td>   14.103</td> <td> 0.000</td> <td>    4.564</td> <td>    6.038</td>\n",
       "</tr>\n",
       "<tr>\n",
       "  <th>category_es_wellnessandbeauty</th> <td>    1.9652</td> <td>    0.131</td> <td>   15.013</td> <td> 0.000</td> <td>    1.709</td> <td>    2.222</td>\n",
       "</tr>\n",
       "<tr>\n",
       "  <th>age_U</th>                         <td>  -26.5464</td> <td> 2.05e+05</td> <td>   -0.000</td> <td> 1.000</td> <td>-4.01e+05</td> <td> 4.01e+05</td>\n",
       "</tr>\n",
       "</table>"
      ],
      "text/plain": [
       "<class 'statsmodels.iolib.summary.Summary'>\n",
       "\"\"\"\n",
       "                 Generalized Linear Model Regression Results                  \n",
       "==============================================================================\n",
       "Dep. Variable:                  fraud   No. Observations:               410617\n",
       "Model:                            GLM   Df Residuals:                   410603\n",
       "Model Family:                Binomial   Df Model:                           13\n",
       "Link Function:                  logit   Scale:                          1.0000\n",
       "Method:                          IRLS   Log-Likelihood:                -5504.8\n",
       "Date:                Sun, 10 Jan 2021   Deviance:                       11010.\n",
       "Time:                        19:10:03   Pearson chi2:                 5.56e+04\n",
       "No. Iterations:                    31                                         \n",
       "Covariance Type:            nonrobust                                         \n",
       "=================================================================================================\n",
       "                                    coef    std err          z      P>|z|      [0.025      0.975]\n",
       "-------------------------------------------------------------------------------------------------\n",
       "const                            -6.0312      0.119    -50.615      0.000      -6.265      -5.798\n",
       "gender_F                          0.4836      0.058      8.279      0.000       0.369       0.598\n",
       "category_es_fashion               1.1393      0.189      6.032      0.000       0.769       1.509\n",
       "category_es_health                2.4113      0.126     19.089      0.000       2.164       2.659\n",
       "category_es_home                  2.7170      0.185     14.701      0.000       2.355       3.079\n",
       "category_es_hotelservices         3.6709      0.159     23.151      0.000       3.360       3.982\n",
       "category_es_hyper                 2.2755      0.144     15.789      0.000       1.993       2.558\n",
       "category_es_leisure               6.6345      0.319     20.782      0.000       6.009       7.260\n",
       "category_es_otherservices         3.6308      0.184     19.700      0.000       3.270       3.992\n",
       "category_es_sportsandtoys         4.6579      0.125     37.121      0.000       4.412       4.904\n",
       "category_es_transportation      -26.8182    1.2e+04     -0.002      0.998   -2.35e+04    2.35e+04\n",
       "category_es_travel                5.3010      0.376     14.103      0.000       4.564       6.038\n",
       "category_es_wellnessandbeauty     1.9652      0.131     15.013      0.000       1.709       2.222\n",
       "age_U                           -26.5464   2.05e+05     -0.000      1.000   -4.01e+05    4.01e+05\n",
       "=================================================================================================\n",
       "\"\"\""
      ]
     },
     "execution_count": 48,
     "metadata": {},
     "output_type": "execute_result"
    }
   ],
   "source": [
    "X_train_sm = sm.add_constant(X_train[col])\n",
    "logm4 = sm.GLM(y_train,X_train_sm, family = sm.families.Binomial())\n",
    "res = logm4.fit()\n",
    "res.summary()"
   ]
  },
  {
   "cell_type": "code",
   "execution_count": 49,
   "metadata": {},
   "outputs": [
    {
     "data": {
      "text/plain": [
       "Index(['gender_F', 'category_es_fashion', 'category_es_health',\n",
       "       'category_es_home', 'category_es_hotelservices', 'category_es_hyper',\n",
       "       'category_es_leisure', 'category_es_otherservices',\n",
       "       'category_es_sportsandtoys', 'category_es_transportation',\n",
       "       'category_es_travel', 'category_es_wellnessandbeauty'],\n",
       "      dtype='object')"
      ]
     },
     "execution_count": 49,
     "metadata": {},
     "output_type": "execute_result"
    }
   ],
   "source": [
    "col = col.drop('age_U')\n",
    "col"
   ]
  },
  {
   "cell_type": "code",
   "execution_count": 50,
   "metadata": {},
   "outputs": [
    {
     "data": {
      "text/html": [
       "<table class=\"simpletable\">\n",
       "<caption>Generalized Linear Model Regression Results</caption>\n",
       "<tr>\n",
       "  <th>Dep. Variable:</th>         <td>fraud</td>      <th>  No. Observations:  </th>  <td>410617</td> \n",
       "</tr>\n",
       "<tr>\n",
       "  <th>Model:</th>                  <td>GLM</td>       <th>  Df Residuals:      </th>  <td>410604</td> \n",
       "</tr>\n",
       "<tr>\n",
       "  <th>Model Family:</th>        <td>Binomial</td>     <th>  Df Model:          </th>  <td>    12</td> \n",
       "</tr>\n",
       "<tr>\n",
       "  <th>Link Function:</th>         <td>logit</td>      <th>  Scale:             </th> <td>  1.0000</td>\n",
       "</tr>\n",
       "<tr>\n",
       "  <th>Method:</th>                <td>IRLS</td>       <th>  Log-Likelihood:    </th> <td> -5507.6</td>\n",
       "</tr>\n",
       "<tr>\n",
       "  <th>Date:</th>            <td>Sun, 10 Jan 2021</td> <th>  Deviance:          </th> <td>  11015.</td>\n",
       "</tr>\n",
       "<tr>\n",
       "  <th>Time:</th>                <td>19:10:14</td>     <th>  Pearson chi2:      </th> <td>5.57e+04</td>\n",
       "</tr>\n",
       "<tr>\n",
       "  <th>No. Iterations:</th>         <td>31</td>        <th>                     </th>     <td> </td>   \n",
       "</tr>\n",
       "<tr>\n",
       "  <th>Covariance Type:</th>     <td>nonrobust</td>    <th>                     </th>     <td> </td>   \n",
       "</tr>\n",
       "</table>\n",
       "<table class=\"simpletable\">\n",
       "<tr>\n",
       "                <td></td>                   <th>coef</th>     <th>std err</th>      <th>z</th>      <th>P>|z|</th>  <th>[0.025</th>    <th>0.975]</th>  \n",
       "</tr>\n",
       "<tr>\n",
       "  <th>const</th>                         <td>   -6.0369</td> <td>    0.119</td> <td>  -50.661</td> <td> 0.000</td> <td>   -6.270</td> <td>   -5.803</td>\n",
       "</tr>\n",
       "<tr>\n",
       "  <th>gender_F</th>                      <td>    0.4896</td> <td>    0.058</td> <td>    8.384</td> <td> 0.000</td> <td>    0.375</td> <td>    0.604</td>\n",
       "</tr>\n",
       "<tr>\n",
       "  <th>category_es_fashion</th>           <td>    1.1397</td> <td>    0.189</td> <td>    6.034</td> <td> 0.000</td> <td>    0.770</td> <td>    1.510</td>\n",
       "</tr>\n",
       "<tr>\n",
       "  <th>category_es_health</th>            <td>    2.4103</td> <td>    0.126</td> <td>   19.082</td> <td> 0.000</td> <td>    2.163</td> <td>    2.658</td>\n",
       "</tr>\n",
       "<tr>\n",
       "  <th>category_es_home</th>              <td>    2.7187</td> <td>    0.185</td> <td>   14.710</td> <td> 0.000</td> <td>    2.356</td> <td>    3.081</td>\n",
       "</tr>\n",
       "<tr>\n",
       "  <th>category_es_hotelservices</th>     <td>    3.6674</td> <td>    0.159</td> <td>   23.132</td> <td> 0.000</td> <td>    3.357</td> <td>    3.978</td>\n",
       "</tr>\n",
       "<tr>\n",
       "  <th>category_es_hyper</th>             <td>    2.2760</td> <td>    0.144</td> <td>   15.792</td> <td> 0.000</td> <td>    1.994</td> <td>    2.558</td>\n",
       "</tr>\n",
       "<tr>\n",
       "  <th>category_es_leisure</th>           <td>    6.6368</td> <td>    0.319</td> <td>   20.786</td> <td> 0.000</td> <td>    6.011</td> <td>    7.263</td>\n",
       "</tr>\n",
       "<tr>\n",
       "  <th>category_es_otherservices</th>     <td>    3.6308</td> <td>    0.184</td> <td>   19.701</td> <td> 0.000</td> <td>    3.270</td> <td>    3.992</td>\n",
       "</tr>\n",
       "<tr>\n",
       "  <th>category_es_sportsandtoys</th>     <td>    4.6573</td> <td>    0.125</td> <td>   37.118</td> <td> 0.000</td> <td>    4.411</td> <td>    4.903</td>\n",
       "</tr>\n",
       "<tr>\n",
       "  <th>category_es_transportation</th>    <td>  -26.8185</td> <td>  1.2e+04</td> <td>   -0.002</td> <td> 0.998</td> <td>-2.35e+04</td> <td> 2.35e+04</td>\n",
       "</tr>\n",
       "<tr>\n",
       "  <th>category_es_travel</th>            <td>    5.3028</td> <td>    0.376</td> <td>   14.106</td> <td> 0.000</td> <td>    4.566</td> <td>    6.040</td>\n",
       "</tr>\n",
       "<tr>\n",
       "  <th>category_es_wellnessandbeauty</th> <td>    1.9657</td> <td>    0.131</td> <td>   15.017</td> <td> 0.000</td> <td>    1.709</td> <td>    2.222</td>\n",
       "</tr>\n",
       "</table>"
      ],
      "text/plain": [
       "<class 'statsmodels.iolib.summary.Summary'>\n",
       "\"\"\"\n",
       "                 Generalized Linear Model Regression Results                  \n",
       "==============================================================================\n",
       "Dep. Variable:                  fraud   No. Observations:               410617\n",
       "Model:                            GLM   Df Residuals:                   410604\n",
       "Model Family:                Binomial   Df Model:                           12\n",
       "Link Function:                  logit   Scale:                          1.0000\n",
       "Method:                          IRLS   Log-Likelihood:                -5507.6\n",
       "Date:                Sun, 10 Jan 2021   Deviance:                       11015.\n",
       "Time:                        19:10:14   Pearson chi2:                 5.57e+04\n",
       "No. Iterations:                    31                                         \n",
       "Covariance Type:            nonrobust                                         \n",
       "=================================================================================================\n",
       "                                    coef    std err          z      P>|z|      [0.025      0.975]\n",
       "-------------------------------------------------------------------------------------------------\n",
       "const                            -6.0369      0.119    -50.661      0.000      -6.270      -5.803\n",
       "gender_F                          0.4896      0.058      8.384      0.000       0.375       0.604\n",
       "category_es_fashion               1.1397      0.189      6.034      0.000       0.770       1.510\n",
       "category_es_health                2.4103      0.126     19.082      0.000       2.163       2.658\n",
       "category_es_home                  2.7187      0.185     14.710      0.000       2.356       3.081\n",
       "category_es_hotelservices         3.6674      0.159     23.132      0.000       3.357       3.978\n",
       "category_es_hyper                 2.2760      0.144     15.792      0.000       1.994       2.558\n",
       "category_es_leisure               6.6368      0.319     20.786      0.000       6.011       7.263\n",
       "category_es_otherservices         3.6308      0.184     19.701      0.000       3.270       3.992\n",
       "category_es_sportsandtoys         4.6573      0.125     37.118      0.000       4.411       4.903\n",
       "category_es_transportation      -26.8185    1.2e+04     -0.002      0.998   -2.35e+04    2.35e+04\n",
       "category_es_travel                5.3028      0.376     14.106      0.000       4.566       6.040\n",
       "category_es_wellnessandbeauty     1.9657      0.131     15.017      0.000       1.709       2.222\n",
       "=================================================================================================\n",
       "\"\"\""
      ]
     },
     "execution_count": 50,
     "metadata": {},
     "output_type": "execute_result"
    }
   ],
   "source": [
    "X_train_sm = sm.add_constant(X_train[col])\n",
    "logm5 = sm.GLM(y_train,X_train_sm, family = sm.families.Binomial())\n",
    "res = logm5.fit()\n",
    "res.summary()"
   ]
  },
  {
   "cell_type": "code",
   "execution_count": 51,
   "metadata": {},
   "outputs": [
    {
     "data": {
      "text/plain": [
       "Index(['gender_F', 'category_es_fashion', 'category_es_health',\n",
       "       'category_es_home', 'category_es_hotelservices', 'category_es_hyper',\n",
       "       'category_es_leisure', 'category_es_otherservices',\n",
       "       'category_es_sportsandtoys', 'category_es_travel',\n",
       "       'category_es_wellnessandbeauty'],\n",
       "      dtype='object')"
      ]
     },
     "execution_count": 51,
     "metadata": {},
     "output_type": "execute_result"
    }
   ],
   "source": [
    "col = col.drop('category_es_transportation')\n",
    "col"
   ]
  },
  {
   "cell_type": "code",
   "execution_count": 52,
   "metadata": {},
   "outputs": [
    {
     "data": {
      "text/html": [
       "<table class=\"simpletable\">\n",
       "<caption>Generalized Linear Model Regression Results</caption>\n",
       "<tr>\n",
       "  <th>Dep. Variable:</th>         <td>fraud</td>      <th>  No. Observations:  </th>  <td>410617</td> \n",
       "</tr>\n",
       "<tr>\n",
       "  <th>Model:</th>                  <td>GLM</td>       <th>  Df Residuals:      </th>  <td>410605</td> \n",
       "</tr>\n",
       "<tr>\n",
       "  <th>Model Family:</th>        <td>Binomial</td>     <th>  Df Model:          </th>  <td>    11</td> \n",
       "</tr>\n",
       "<tr>\n",
       "  <th>Link Function:</th>         <td>logit</td>      <th>  Scale:             </th> <td>  1.0000</td>\n",
       "</tr>\n",
       "<tr>\n",
       "  <th>Method:</th>                <td>IRLS</td>       <th>  Log-Likelihood:    </th> <td> -5723.4</td>\n",
       "</tr>\n",
       "<tr>\n",
       "  <th>Date:</th>            <td>Sun, 10 Jan 2021</td> <th>  Deviance:          </th> <td>  11447.</td>\n",
       "</tr>\n",
       "<tr>\n",
       "  <th>Time:</th>                <td>19:10:18</td>     <th>  Pearson chi2:      </th> <td>3.94e+05</td>\n",
       "</tr>\n",
       "<tr>\n",
       "  <th>No. Iterations:</th>         <td>11</td>        <th>                     </th>     <td> </td>   \n",
       "</tr>\n",
       "<tr>\n",
       "  <th>Covariance Type:</th>     <td>nonrobust</td>    <th>                     </th>     <td> </td>   \n",
       "</tr>\n",
       "</table>\n",
       "<table class=\"simpletable\">\n",
       "<tr>\n",
       "                <td></td>                   <th>coef</th>     <th>std err</th>      <th>z</th>      <th>P>|z|</th>  <th>[0.025</th>    <th>0.975]</th>  \n",
       "</tr>\n",
       "<tr>\n",
       "  <th>const</th>                         <td>   -8.7698</td> <td>    0.119</td> <td>  -73.725</td> <td> 0.000</td> <td>   -9.003</td> <td>   -8.537</td>\n",
       "</tr>\n",
       "<tr>\n",
       "  <th>gender_F</th>                      <td>    0.4903</td> <td>    0.058</td> <td>    8.396</td> <td> 0.000</td> <td>    0.376</td> <td>    0.605</td>\n",
       "</tr>\n",
       "<tr>\n",
       "  <th>category_es_fashion</th>           <td>    3.8721</td> <td>    0.189</td> <td>   20.513</td> <td> 0.000</td> <td>    3.502</td> <td>    4.242</td>\n",
       "</tr>\n",
       "<tr>\n",
       "  <th>category_es_health</th>            <td>    5.1428</td> <td>    0.126</td> <td>   40.765</td> <td> 0.000</td> <td>    4.896</td> <td>    5.390</td>\n",
       "</tr>\n",
       "<tr>\n",
       "  <th>category_es_home</th>              <td>    5.4512</td> <td>    0.185</td> <td>   29.512</td> <td> 0.000</td> <td>    5.089</td> <td>    5.813</td>\n",
       "</tr>\n",
       "<tr>\n",
       "  <th>category_es_hotelservices</th>     <td>    6.3999</td> <td>    0.158</td> <td>   40.400</td> <td> 0.000</td> <td>    6.089</td> <td>    6.710</td>\n",
       "</tr>\n",
       "<tr>\n",
       "  <th>category_es_hyper</th>             <td>    5.0085</td> <td>    0.144</td> <td>   34.786</td> <td> 0.000</td> <td>    4.726</td> <td>    5.291</td>\n",
       "</tr>\n",
       "<tr>\n",
       "  <th>category_es_leisure</th>           <td>    9.3693</td> <td>    0.319</td> <td>   29.350</td> <td> 0.000</td> <td>    8.744</td> <td>    9.995</td>\n",
       "</tr>\n",
       "<tr>\n",
       "  <th>category_es_otherservices</th>     <td>    6.3633</td> <td>    0.184</td> <td>   34.547</td> <td> 0.000</td> <td>    6.002</td> <td>    6.724</td>\n",
       "</tr>\n",
       "<tr>\n",
       "  <th>category_es_sportsandtoys</th>     <td>    7.3897</td> <td>    0.125</td> <td>   58.971</td> <td> 0.000</td> <td>    7.144</td> <td>    7.635</td>\n",
       "</tr>\n",
       "<tr>\n",
       "  <th>category_es_travel</th>            <td>    8.0353</td> <td>    0.376</td> <td>   21.377</td> <td> 0.000</td> <td>    7.299</td> <td>    8.772</td>\n",
       "</tr>\n",
       "<tr>\n",
       "  <th>category_es_wellnessandbeauty</th> <td>    4.6982</td> <td>    0.131</td> <td>   35.933</td> <td> 0.000</td> <td>    4.442</td> <td>    4.954</td>\n",
       "</tr>\n",
       "</table>"
      ],
      "text/plain": [
       "<class 'statsmodels.iolib.summary.Summary'>\n",
       "\"\"\"\n",
       "                 Generalized Linear Model Regression Results                  \n",
       "==============================================================================\n",
       "Dep. Variable:                  fraud   No. Observations:               410617\n",
       "Model:                            GLM   Df Residuals:                   410605\n",
       "Model Family:                Binomial   Df Model:                           11\n",
       "Link Function:                  logit   Scale:                          1.0000\n",
       "Method:                          IRLS   Log-Likelihood:                -5723.4\n",
       "Date:                Sun, 10 Jan 2021   Deviance:                       11447.\n",
       "Time:                        19:10:18   Pearson chi2:                 3.94e+05\n",
       "No. Iterations:                    11                                         \n",
       "Covariance Type:            nonrobust                                         \n",
       "=================================================================================================\n",
       "                                    coef    std err          z      P>|z|      [0.025      0.975]\n",
       "-------------------------------------------------------------------------------------------------\n",
       "const                            -8.7698      0.119    -73.725      0.000      -9.003      -8.537\n",
       "gender_F                          0.4903      0.058      8.396      0.000       0.376       0.605\n",
       "category_es_fashion               3.8721      0.189     20.513      0.000       3.502       4.242\n",
       "category_es_health                5.1428      0.126     40.765      0.000       4.896       5.390\n",
       "category_es_home                  5.4512      0.185     29.512      0.000       5.089       5.813\n",
       "category_es_hotelservices         6.3999      0.158     40.400      0.000       6.089       6.710\n",
       "category_es_hyper                 5.0085      0.144     34.786      0.000       4.726       5.291\n",
       "category_es_leisure               9.3693      0.319     29.350      0.000       8.744       9.995\n",
       "category_es_otherservices         6.3633      0.184     34.547      0.000       6.002       6.724\n",
       "category_es_sportsandtoys         7.3897      0.125     58.971      0.000       7.144       7.635\n",
       "category_es_travel                8.0353      0.376     21.377      0.000       7.299       8.772\n",
       "category_es_wellnessandbeauty     4.6982      0.131     35.933      0.000       4.442       4.954\n",
       "=================================================================================================\n",
       "\"\"\""
      ]
     },
     "execution_count": 52,
     "metadata": {},
     "output_type": "execute_result"
    }
   ],
   "source": [
    "X_train_sm = sm.add_constant(X_train[col])\n",
    "logm6 = sm.GLM(y_train,X_train_sm, family = sm.families.Binomial())\n",
    "res = logm6.fit()\n",
    "res.summary()"
   ]
  },
  {
   "cell_type": "code",
   "execution_count": 53,
   "metadata": {},
   "outputs": [],
   "source": [
    "y_train_pred = res.predict(X_train_sm).values.reshape(-1)"
   ]
  },
  {
   "cell_type": "code",
   "execution_count": 54,
   "metadata": {},
   "outputs": [
    {
     "data": {
      "text/plain": [
       "array([0.00015533, 0.00015533, 0.00015533, 0.0002536 , 0.0002536 ,\n",
       "       0.0002536 , 0.0002536 , 0.0416169 , 0.00015533, 0.0002536 ])"
      ]
     },
     "execution_count": 54,
     "metadata": {},
     "output_type": "execute_result"
    }
   ],
   "source": [
    "y_train_pred[:10]"
   ]
  },
  {
   "cell_type": "code",
   "execution_count": 55,
   "metadata": {},
   "outputs": [
    {
     "data": {
      "text/html": [
       "<div>\n",
       "<style scoped>\n",
       "    .dataframe tbody tr th:only-of-type {\n",
       "        vertical-align: middle;\n",
       "    }\n",
       "\n",
       "    .dataframe tbody tr th {\n",
       "        vertical-align: top;\n",
       "    }\n",
       "\n",
       "    .dataframe thead th {\n",
       "        text-align: right;\n",
       "    }\n",
       "</style>\n",
       "<table border=\"1\" class=\"dataframe\">\n",
       "  <thead>\n",
       "    <tr style=\"text-align: right;\">\n",
       "      <th></th>\n",
       "      <th>Fraud</th>\n",
       "      <th>Fraud_Prob</th>\n",
       "      <th>CustID</th>\n",
       "    </tr>\n",
       "  </thead>\n",
       "  <tbody>\n",
       "    <tr>\n",
       "      <th>0</th>\n",
       "      <td>0</td>\n",
       "      <td>0.000155</td>\n",
       "      <td>200447</td>\n",
       "    </tr>\n",
       "    <tr>\n",
       "      <th>1</th>\n",
       "      <td>0</td>\n",
       "      <td>0.000155</td>\n",
       "      <td>367264</td>\n",
       "    </tr>\n",
       "    <tr>\n",
       "      <th>2</th>\n",
       "      <td>0</td>\n",
       "      <td>0.000155</td>\n",
       "      <td>400802</td>\n",
       "    </tr>\n",
       "    <tr>\n",
       "      <th>3</th>\n",
       "      <td>0</td>\n",
       "      <td>0.000254</td>\n",
       "      <td>549131</td>\n",
       "    </tr>\n",
       "    <tr>\n",
       "      <th>4</th>\n",
       "      <td>0</td>\n",
       "      <td>0.000254</td>\n",
       "      <td>399659</td>\n",
       "    </tr>\n",
       "  </tbody>\n",
       "</table>\n",
       "</div>"
      ],
      "text/plain": [
       "   Fraud  Fraud_Prob  CustID\n",
       "0      0    0.000155  200447\n",
       "1      0    0.000155  367264\n",
       "2      0    0.000155  400802\n",
       "3      0    0.000254  549131\n",
       "4      0    0.000254  399659"
      ]
     },
     "execution_count": 55,
     "metadata": {},
     "output_type": "execute_result"
    }
   ],
   "source": [
    "y_train_pred_final = pd.DataFrame({'Fraud':y_train.values, 'Fraud_Prob':y_train_pred})\n",
    "y_train_pred_final['CustID'] = y_train.index\n",
    "y_train_pred_final.head()"
   ]
  },
  {
   "cell_type": "code",
   "execution_count": 56,
   "metadata": {},
   "outputs": [
    {
     "data": {
      "text/html": [
       "<div>\n",
       "<style scoped>\n",
       "    .dataframe tbody tr th:only-of-type {\n",
       "        vertical-align: middle;\n",
       "    }\n",
       "\n",
       "    .dataframe tbody tr th {\n",
       "        vertical-align: top;\n",
       "    }\n",
       "\n",
       "    .dataframe thead th {\n",
       "        text-align: right;\n",
       "    }\n",
       "</style>\n",
       "<table border=\"1\" class=\"dataframe\">\n",
       "  <thead>\n",
       "    <tr style=\"text-align: right;\">\n",
       "      <th></th>\n",
       "      <th>Fraud</th>\n",
       "      <th>Fraud_Prob</th>\n",
       "      <th>CustID</th>\n",
       "      <th>predicted</th>\n",
       "    </tr>\n",
       "  </thead>\n",
       "  <tbody>\n",
       "    <tr>\n",
       "      <th>0</th>\n",
       "      <td>0</td>\n",
       "      <td>0.000155</td>\n",
       "      <td>200447</td>\n",
       "      <td>0</td>\n",
       "    </tr>\n",
       "    <tr>\n",
       "      <th>1</th>\n",
       "      <td>0</td>\n",
       "      <td>0.000155</td>\n",
       "      <td>367264</td>\n",
       "      <td>0</td>\n",
       "    </tr>\n",
       "    <tr>\n",
       "      <th>2</th>\n",
       "      <td>0</td>\n",
       "      <td>0.000155</td>\n",
       "      <td>400802</td>\n",
       "      <td>0</td>\n",
       "    </tr>\n",
       "    <tr>\n",
       "      <th>3</th>\n",
       "      <td>0</td>\n",
       "      <td>0.000254</td>\n",
       "      <td>549131</td>\n",
       "      <td>0</td>\n",
       "    </tr>\n",
       "    <tr>\n",
       "      <th>4</th>\n",
       "      <td>0</td>\n",
       "      <td>0.000254</td>\n",
       "      <td>399659</td>\n",
       "      <td>0</td>\n",
       "    </tr>\n",
       "  </tbody>\n",
       "</table>\n",
       "</div>"
      ],
      "text/plain": [
       "   Fraud  Fraud_Prob  CustID  predicted\n",
       "0      0    0.000155  200447          0\n",
       "1      0    0.000155  367264          0\n",
       "2      0    0.000155  400802          0\n",
       "3      0    0.000254  549131          0\n",
       "4      0    0.000254  399659          0"
      ]
     },
     "execution_count": 56,
     "metadata": {},
     "output_type": "execute_result"
    }
   ],
   "source": [
    "y_train_pred_final['predicted'] = y_train_pred_final.Fraud_Prob.map(lambda x: 1 if x > 0.5 else 0)\n",
    "\n",
    "# Let's see the head\n",
    "y_train_pred_final.head()"
   ]
  },
  {
   "cell_type": "code",
   "execution_count": 57,
   "metadata": {},
   "outputs": [
    {
     "data": {
      "text/html": [
       "<div>\n",
       "<style scoped>\n",
       "    .dataframe tbody tr th:only-of-type {\n",
       "        vertical-align: middle;\n",
       "    }\n",
       "\n",
       "    .dataframe tbody tr th {\n",
       "        vertical-align: top;\n",
       "    }\n",
       "\n",
       "    .dataframe thead th {\n",
       "        text-align: right;\n",
       "    }\n",
       "</style>\n",
       "<table border=\"1\" class=\"dataframe\">\n",
       "  <thead>\n",
       "    <tr style=\"text-align: right;\">\n",
       "      <th></th>\n",
       "      <th>Fraud</th>\n",
       "      <th>Fraud_Prob</th>\n",
       "      <th>CustID</th>\n",
       "      <th>predicted</th>\n",
       "    </tr>\n",
       "  </thead>\n",
       "  <tbody>\n",
       "    <tr>\n",
       "      <th>0</th>\n",
       "      <td>0</td>\n",
       "      <td>0.000155</td>\n",
       "      <td>200447</td>\n",
       "      <td>0</td>\n",
       "    </tr>\n",
       "    <tr>\n",
       "      <th>1</th>\n",
       "      <td>0</td>\n",
       "      <td>0.000155</td>\n",
       "      <td>367264</td>\n",
       "      <td>0</td>\n",
       "    </tr>\n",
       "    <tr>\n",
       "      <th>2</th>\n",
       "      <td>0</td>\n",
       "      <td>0.000155</td>\n",
       "      <td>400802</td>\n",
       "      <td>0</td>\n",
       "    </tr>\n",
       "    <tr>\n",
       "      <th>3</th>\n",
       "      <td>0</td>\n",
       "      <td>0.000254</td>\n",
       "      <td>549131</td>\n",
       "      <td>0</td>\n",
       "    </tr>\n",
       "    <tr>\n",
       "      <th>4</th>\n",
       "      <td>0</td>\n",
       "      <td>0.000254</td>\n",
       "      <td>399659</td>\n",
       "      <td>0</td>\n",
       "    </tr>\n",
       "  </tbody>\n",
       "</table>\n",
       "</div>"
      ],
      "text/plain": [
       "   Fraud  Fraud_Prob  CustID  predicted\n",
       "0      0    0.000155  200447          0\n",
       "1      0    0.000155  367264          0\n",
       "2      0    0.000155  400802          0\n",
       "3      0    0.000254  549131          0\n",
       "4      0    0.000254  399659          0"
      ]
     },
     "execution_count": 57,
     "metadata": {},
     "output_type": "execute_result"
    }
   ],
   "source": [
    "y_train_pred_final['predicted'] = y_train_pred_final.Fraud_Prob.map(lambda x: 1 if x > 0.5 else 0)\n",
    "\n",
    "# Let's see the head\n",
    "y_train_pred_final.head()"
   ]
  },
  {
   "cell_type": "code",
   "execution_count": 58,
   "metadata": {},
   "outputs": [],
   "source": [
    "from sklearn import metrics"
   ]
  },
  {
   "cell_type": "code",
   "execution_count": 59,
   "metadata": {},
   "outputs": [
    {
     "name": "stdout",
     "output_type": "stream",
     "text": [
      "[[409110     16]\n",
      " [  1452     39]]\n"
     ]
    }
   ],
   "source": [
    "# Confusion matrix \n",
    "confusion = metrics.confusion_matrix(y_train_pred_final.Fraud, y_train_pred_final.predicted )\n",
    "print(confusion)"
   ]
  },
  {
   "cell_type": "code",
   "execution_count": 60,
   "metadata": {},
   "outputs": [
    {
     "name": "stdout",
     "output_type": "stream",
     "text": [
      "0.9964248922962274\n"
     ]
    }
   ],
   "source": [
    "# Let's check the overall accuracy.\n",
    "print(metrics.accuracy_score(y_train_pred_final.Fraud, y_train_pred_final.predicted))"
   ]
  },
  {
   "cell_type": "code",
   "execution_count": 61,
   "metadata": {},
   "outputs": [
    {
     "data": {
      "text/html": [
       "<div>\n",
       "<style scoped>\n",
       "    .dataframe tbody tr th:only-of-type {\n",
       "        vertical-align: middle;\n",
       "    }\n",
       "\n",
       "    .dataframe tbody tr th {\n",
       "        vertical-align: top;\n",
       "    }\n",
       "\n",
       "    .dataframe thead th {\n",
       "        text-align: right;\n",
       "    }\n",
       "</style>\n",
       "<table border=\"1\" class=\"dataframe\">\n",
       "  <thead>\n",
       "    <tr style=\"text-align: right;\">\n",
       "      <th></th>\n",
       "      <th>Features</th>\n",
       "      <th>VIF</th>\n",
       "    </tr>\n",
       "  </thead>\n",
       "  <tbody>\n",
       "    <tr>\n",
       "      <th>6</th>\n",
       "      <td>category_es_leisure</td>\n",
       "      <td>1.00</td>\n",
       "    </tr>\n",
       "    <tr>\n",
       "      <th>9</th>\n",
       "      <td>category_es_travel</td>\n",
       "      <td>1.00</td>\n",
       "    </tr>\n",
       "    <tr>\n",
       "      <th>7</th>\n",
       "      <td>category_es_otherservices</td>\n",
       "      <td>0.48</td>\n",
       "    </tr>\n",
       "    <tr>\n",
       "      <th>8</th>\n",
       "      <td>category_es_sportsandtoys</td>\n",
       "      <td>0.13</td>\n",
       "    </tr>\n",
       "    <tr>\n",
       "      <th>4</th>\n",
       "      <td>category_es_hotelservices</td>\n",
       "      <td>0.06</td>\n",
       "    </tr>\n",
       "    <tr>\n",
       "      <th>3</th>\n",
       "      <td>category_es_home</td>\n",
       "      <td>0.03</td>\n",
       "    </tr>\n",
       "    <tr>\n",
       "      <th>5</th>\n",
       "      <td>category_es_hyper</td>\n",
       "      <td>0.03</td>\n",
       "    </tr>\n",
       "    <tr>\n",
       "      <th>2</th>\n",
       "      <td>category_es_health</td>\n",
       "      <td>0.02</td>\n",
       "    </tr>\n",
       "    <tr>\n",
       "      <th>1</th>\n",
       "      <td>category_es_fashion</td>\n",
       "      <td>0.01</td>\n",
       "    </tr>\n",
       "    <tr>\n",
       "      <th>0</th>\n",
       "      <td>gender_F</td>\n",
       "      <td>0.00</td>\n",
       "    </tr>\n",
       "    <tr>\n",
       "      <th>10</th>\n",
       "      <td>category_es_wellnessandbeauty</td>\n",
       "      <td>0.00</td>\n",
       "    </tr>\n",
       "  </tbody>\n",
       "</table>\n",
       "</div>"
      ],
      "text/plain": [
       "                         Features   VIF\n",
       "6             category_es_leisure  1.00\n",
       "9              category_es_travel  1.00\n",
       "7       category_es_otherservices  0.48\n",
       "8       category_es_sportsandtoys  0.13\n",
       "4       category_es_hotelservices  0.06\n",
       "3                category_es_home  0.03\n",
       "5               category_es_hyper  0.03\n",
       "2              category_es_health  0.02\n",
       "1             category_es_fashion  0.01\n",
       "0                        gender_F  0.00\n",
       "10  category_es_wellnessandbeauty  0.00"
      ]
     },
     "execution_count": 61,
     "metadata": {},
     "output_type": "execute_result"
    }
   ],
   "source": [
    "vif = pd.DataFrame()\n",
    "vif['Features'] = X_train[col].columns\n",
    "vif['VIF'] = [variance_inflation_factor(X_train[col].values, i) for i in range(X_train[col].shape[1])]\n",
    "vif['VIF'] = round(vif['VIF'], 2)\n",
    "vif = vif.sort_values(by = \"VIF\", ascending = False)\n",
    "vif"
   ]
  },
  {
   "cell_type": "markdown",
   "metadata": {},
   "source": [
    "### Metrics beyond simply accuracy"
   ]
  },
  {
   "cell_type": "code",
   "execution_count": 62,
   "metadata": {},
   "outputs": [],
   "source": [
    "TP = confusion[1,1] # true positive \n",
    "TN = confusion[0,0] # true negatives\n",
    "FP = confusion[0,1] # false positives\n",
    "FN = confusion[1,0] # false negatives"
   ]
  },
  {
   "cell_type": "code",
   "execution_count": 63,
   "metadata": {},
   "outputs": [
    {
     "data": {
      "text/plain": [
       "0.026156941649899398"
      ]
     },
     "execution_count": 63,
     "metadata": {},
     "output_type": "execute_result"
    }
   ],
   "source": [
    "# Let's see the sensitivity of our logistic regression model\n",
    "TP / float(TP+FN)"
   ]
  },
  {
   "cell_type": "code",
   "execution_count": 64,
   "metadata": {},
   "outputs": [
    {
     "data": {
      "text/plain": [
       "0.9999608922434653"
      ]
     },
     "execution_count": 64,
     "metadata": {},
     "output_type": "execute_result"
    }
   ],
   "source": [
    "# Let us calculate specificity\n",
    "TN / float(TN+FP)"
   ]
  },
  {
   "cell_type": "code",
   "execution_count": 65,
   "metadata": {},
   "outputs": [
    {
     "name": "stdout",
     "output_type": "stream",
     "text": [
      "3.9107756534661696e-05\n"
     ]
    }
   ],
   "source": [
    "# Calculate false postive rate - predicting fraud when customer does not have fraud\n",
    "print(FP/ float(TN+FP))"
   ]
  },
  {
   "cell_type": "code",
   "execution_count": 66,
   "metadata": {},
   "outputs": [
    {
     "name": "stdout",
     "output_type": "stream",
     "text": [
      "0.7090909090909091\n"
     ]
    }
   ],
   "source": [
    "# positive predictive value \n",
    "print (TP / float(TP+FP))\n"
   ]
  },
  {
   "cell_type": "code",
   "execution_count": 67,
   "metadata": {},
   "outputs": [
    {
     "name": "stdout",
     "output_type": "stream",
     "text": [
      "0.9964633843365923\n"
     ]
    }
   ],
   "source": [
    "# Negative predictive value\n",
    "print (TN / float(TN+ FN))"
   ]
  },
  {
   "cell_type": "markdown",
   "metadata": {},
   "source": [
    "### Plotting the ROC Curve"
   ]
  },
  {
   "cell_type": "code",
   "execution_count": 68,
   "metadata": {},
   "outputs": [],
   "source": [
    "def draw_roc( actual, probs ):\n",
    "    fpr, tpr, thresholds = metrics.roc_curve( actual, probs,\n",
    "                                              drop_intermediate = False )\n",
    "    auc_score = metrics.roc_auc_score( actual, probs )\n",
    "    plt.figure(figsize=(5, 5))\n",
    "    plt.plot( fpr, tpr, label='ROC curve (area = %0.2f)' % auc_score )\n",
    "    plt.plot([0, 1], [0, 1], 'k--')\n",
    "    plt.xlim([0.0, 1.0])\n",
    "    plt.ylim([0.0, 1.05])\n",
    "    plt.xlabel('False Positive Rate or [1 - True Negative Rate]')\n",
    "    plt.ylabel('True Positive Rate')\n",
    "    plt.title('Receiver operating characteristic example')\n",
    "    plt.legend(loc=\"lower right\")\n",
    "    plt.show()\n",
    "\n",
    "    return None"
   ]
  },
  {
   "cell_type": "code",
   "execution_count": 69,
   "metadata": {},
   "outputs": [],
   "source": [
    "fpr, tpr, thresholds = metrics.roc_curve( y_train_pred_final.Fraud, y_train_pred_final.Fraud_Prob, drop_intermediate = False )"
   ]
  },
  {
   "cell_type": "code",
   "execution_count": 70,
   "metadata": {},
   "outputs": [
    {
     "data": {
      "image/png": "[encoded data removed]",
      "text/plain": [
       "<Figure size 360x360 with 1 Axes>"
      ]
     },
     "metadata": {
      "needs_background": "light"
     },
     "output_type": "display_data"
    }
   ],
   "source": [
    "draw_roc(y_train_pred_final.Fraud, y_train_pred_final.Fraud_Prob)"
   ]
  },
  {
   "cell_type": "markdown",
   "metadata": {},
   "source": [
    "### Making predictions on the test set"
   ]
  },
  {
   "cell_type": "code",
   "execution_count": 71,
   "metadata": {},
   "outputs": [],
   "source": [
    "X_test[['amount']] = scaler.transform(X_test[['amount']])"
   ]
  },
  {
   "cell_type": "code",
   "execution_count": 72,
   "metadata": {},
   "outputs": [
    {
     "data": {
      "text/html": [
       "<div>\n",
       "<style scoped>\n",
       "    .dataframe tbody tr th:only-of-type {\n",
       "        vertical-align: middle;\n",
       "    }\n",
       "\n",
       "    .dataframe tbody tr th {\n",
       "        vertical-align: top;\n",
       "    }\n",
       "\n",
       "    .dataframe thead th {\n",
       "        text-align: right;\n",
       "    }\n",
       "</style>\n",
       "<table border=\"1\" class=\"dataframe\">\n",
       "  <thead>\n",
       "    <tr style=\"text-align: right;\">\n",
       "      <th></th>\n",
       "      <th>gender_F</th>\n",
       "      <th>category_es_fashion</th>\n",
       "      <th>category_es_health</th>\n",
       "      <th>category_es_home</th>\n",
       "      <th>category_es_hotelservices</th>\n",
       "      <th>category_es_hyper</th>\n",
       "      <th>category_es_leisure</th>\n",
       "      <th>category_es_otherservices</th>\n",
       "      <th>category_es_sportsandtoys</th>\n",
       "      <th>category_es_travel</th>\n",
       "      <th>category_es_wellnessandbeauty</th>\n",
       "    </tr>\n",
       "  </thead>\n",
       "  <tbody>\n",
       "    <tr>\n",
       "      <th>482525</th>\n",
       "      <td>1</td>\n",
       "      <td>0</td>\n",
       "      <td>0</td>\n",
       "      <td>0</td>\n",
       "      <td>0</td>\n",
       "      <td>0</td>\n",
       "      <td>0</td>\n",
       "      <td>0</td>\n",
       "      <td>0</td>\n",
       "      <td>0</td>\n",
       "      <td>0</td>\n",
       "    </tr>\n",
       "    <tr>\n",
       "      <th>548559</th>\n",
       "      <td>1</td>\n",
       "      <td>1</td>\n",
       "      <td>0</td>\n",
       "      <td>0</td>\n",
       "      <td>0</td>\n",
       "      <td>0</td>\n",
       "      <td>0</td>\n",
       "      <td>0</td>\n",
       "      <td>0</td>\n",
       "      <td>0</td>\n",
       "      <td>0</td>\n",
       "    </tr>\n",
       "    <tr>\n",
       "      <th>379527</th>\n",
       "      <td>0</td>\n",
       "      <td>0</td>\n",
       "      <td>0</td>\n",
       "      <td>0</td>\n",
       "      <td>0</td>\n",
       "      <td>0</td>\n",
       "      <td>0</td>\n",
       "      <td>0</td>\n",
       "      <td>0</td>\n",
       "      <td>0</td>\n",
       "      <td>0</td>\n",
       "    </tr>\n",
       "    <tr>\n",
       "      <th>271422</th>\n",
       "      <td>1</td>\n",
       "      <td>0</td>\n",
       "      <td>0</td>\n",
       "      <td>0</td>\n",
       "      <td>0</td>\n",
       "      <td>0</td>\n",
       "      <td>0</td>\n",
       "      <td>0</td>\n",
       "      <td>0</td>\n",
       "      <td>0</td>\n",
       "      <td>0</td>\n",
       "    </tr>\n",
       "    <tr>\n",
       "      <th>483399</th>\n",
       "      <td>0</td>\n",
       "      <td>0</td>\n",
       "      <td>0</td>\n",
       "      <td>0</td>\n",
       "      <td>0</td>\n",
       "      <td>0</td>\n",
       "      <td>0</td>\n",
       "      <td>0</td>\n",
       "      <td>0</td>\n",
       "      <td>0</td>\n",
       "      <td>0</td>\n",
       "    </tr>\n",
       "  </tbody>\n",
       "</table>\n",
       "</div>"
      ],
      "text/plain": [
       "        gender_F  category_es_fashion  category_es_health  category_es_home  \\\n",
       "482525         1                    0                   0                 0   \n",
       "548559         1                    1                   0                 0   \n",
       "379527         0                    0                   0                 0   \n",
       "271422         1                    0                   0                 0   \n",
       "483399         0                    0                   0                 0   \n",
       "\n",
       "        category_es_hotelservices  category_es_hyper  category_es_leisure  \\\n",
       "482525                          0                  0                    0   \n",
       "548559                          0                  0                    0   \n",
       "379527                          0                  0                    0   \n",
       "271422                          0                  0                    0   \n",
       "483399                          0                  0                    0   \n",
       "\n",
       "        category_es_otherservices  category_es_sportsandtoys  \\\n",
       "482525                          0                          0   \n",
       "548559                          0                          0   \n",
       "379527                          0                          0   \n",
       "271422                          0                          0   \n",
       "483399                          0                          0   \n",
       "\n",
       "        category_es_travel  category_es_wellnessandbeauty  \n",
       "482525                   0                              0  \n",
       "548559                   0                              0  \n",
       "379527                   0                              0  \n",
       "271422                   0                              0  \n",
       "483399                   0                              0  "
      ]
     },
     "execution_count": 72,
     "metadata": {},
     "output_type": "execute_result"
    }
   ],
   "source": [
    "X_test = X_test[col]\n",
    "X_test.head()"
   ]
  },
  {
   "cell_type": "code",
   "execution_count": 73,
   "metadata": {},
   "outputs": [],
   "source": [
    "X_test_sm = sm.add_constant(X_test)"
   ]
  },
  {
   "cell_type": "code",
   "execution_count": 74,
   "metadata": {},
   "outputs": [],
   "source": [
    "y_test_pred = res.predict(X_test_sm)"
   ]
  },
  {
   "cell_type": "code",
   "execution_count": 75,
   "metadata": {},
   "outputs": [
    {
     "data": {
      "text/plain": [
       "482525    0.000254\n",
       "548559    0.012040\n",
       "379527    0.000155\n",
       "271422    0.000254\n",
       "483399    0.000155\n",
       "573337    0.000254\n",
       "205612    0.000155\n",
       "26961     0.000155\n",
       "153407    0.000254\n",
       "356470    0.000155\n",
       "dtype: float64"
      ]
     },
     "execution_count": 75,
     "metadata": {},
     "output_type": "execute_result"
    }
   ],
   "source": [
    "y_test_pred[:10]"
   ]
  },
  {
   "cell_type": "code",
   "execution_count": 76,
   "metadata": {},
   "outputs": [],
   "source": [
    "# Converting y_pred to a dataframe which is an array\n",
    "y_pred_1 = pd.DataFrame(y_test_pred)"
   ]
  },
  {
   "cell_type": "code",
   "execution_count": 77,
   "metadata": {},
   "outputs": [
    {
     "data": {
      "text/html": [
       "<div>\n",
       "<style scoped>\n",
       "    .dataframe tbody tr th:only-of-type {\n",
       "        vertical-align: middle;\n",
       "    }\n",
       "\n",
       "    .dataframe tbody tr th {\n",
       "        vertical-align: top;\n",
       "    }\n",
       "\n",
       "    .dataframe thead th {\n",
       "        text-align: right;\n",
       "    }\n",
       "</style>\n",
       "<table border=\"1\" class=\"dataframe\">\n",
       "  <thead>\n",
       "    <tr style=\"text-align: right;\">\n",
       "      <th></th>\n",
       "      <th>0</th>\n",
       "    </tr>\n",
       "  </thead>\n",
       "  <tbody>\n",
       "    <tr>\n",
       "      <th>482525</th>\n",
       "      <td>0.000254</td>\n",
       "    </tr>\n",
       "    <tr>\n",
       "      <th>548559</th>\n",
       "      <td>0.012040</td>\n",
       "    </tr>\n",
       "    <tr>\n",
       "      <th>379527</th>\n",
       "      <td>0.000155</td>\n",
       "    </tr>\n",
       "    <tr>\n",
       "      <th>271422</th>\n",
       "      <td>0.000254</td>\n",
       "    </tr>\n",
       "    <tr>\n",
       "      <th>483399</th>\n",
       "      <td>0.000155</td>\n",
       "    </tr>\n",
       "  </tbody>\n",
       "</table>\n",
       "</div>"
      ],
      "text/plain": [
       "               0\n",
       "482525  0.000254\n",
       "548559  0.012040\n",
       "379527  0.000155\n",
       "271422  0.000254\n",
       "483399  0.000155"
      ]
     },
     "execution_count": 77,
     "metadata": {},
     "output_type": "execute_result"
    }
   ],
   "source": [
    "# Let's see the head\n",
    "y_pred_1.head()"
   ]
  },
  {
   "cell_type": "code",
   "execution_count": 78,
   "metadata": {},
   "outputs": [],
   "source": [
    "# Converting y_test to dataframe\n",
    "y_test_df = pd.DataFrame(y_test)"
   ]
  },
  {
   "cell_type": "code",
   "execution_count": 79,
   "metadata": {},
   "outputs": [],
   "source": [
    "# Putting CustID to index\n",
    "y_test_df['CustID'] = y_test_df.index"
   ]
  },
  {
   "cell_type": "code",
   "execution_count": 80,
   "metadata": {},
   "outputs": [],
   "source": [
    "# Removing index for both dataframes to append them side by side \n",
    "y_pred_1.reset_index(drop=True, inplace=True)\n",
    "y_test_df.reset_index(drop=True, inplace=True)"
   ]
  },
  {
   "cell_type": "code",
   "execution_count": 81,
   "metadata": {},
   "outputs": [],
   "source": [
    "# Appending y_test_df and y_pred_1\n",
    "y_pred_final = pd.concat([y_test_df, y_pred_1],axis=1)"
   ]
  },
  {
   "cell_type": "code",
   "execution_count": 82,
   "metadata": {},
   "outputs": [
    {
     "data": {
      "text/html": [
       "<div>\n",
       "<style scoped>\n",
       "    .dataframe tbody tr th:only-of-type {\n",
       "        vertical-align: middle;\n",
       "    }\n",
       "\n",
       "    .dataframe tbody tr th {\n",
       "        vertical-align: top;\n",
       "    }\n",
       "\n",
       "    .dataframe thead th {\n",
       "        text-align: right;\n",
       "    }\n",
       "</style>\n",
       "<table border=\"1\" class=\"dataframe\">\n",
       "  <thead>\n",
       "    <tr style=\"text-align: right;\">\n",
       "      <th></th>\n",
       "      <th>fraud</th>\n",
       "      <th>CustID</th>\n",
       "      <th>0</th>\n",
       "    </tr>\n",
       "  </thead>\n",
       "  <tbody>\n",
       "    <tr>\n",
       "      <th>0</th>\n",
       "      <td>0</td>\n",
       "      <td>482525</td>\n",
       "      <td>0.000254</td>\n",
       "    </tr>\n",
       "    <tr>\n",
       "      <th>1</th>\n",
       "      <td>0</td>\n",
       "      <td>548559</td>\n",
       "      <td>0.012040</td>\n",
       "    </tr>\n",
       "    <tr>\n",
       "      <th>2</th>\n",
       "      <td>0</td>\n",
       "      <td>379527</td>\n",
       "      <td>0.000155</td>\n",
       "    </tr>\n",
       "    <tr>\n",
       "      <th>3</th>\n",
       "      <td>0</td>\n",
       "      <td>271422</td>\n",
       "      <td>0.000254</td>\n",
       "    </tr>\n",
       "    <tr>\n",
       "      <th>4</th>\n",
       "      <td>0</td>\n",
       "      <td>483399</td>\n",
       "      <td>0.000155</td>\n",
       "    </tr>\n",
       "  </tbody>\n",
       "</table>\n",
       "</div>"
      ],
      "text/plain": [
       "   fraud  CustID         0\n",
       "0      0  482525  0.000254\n",
       "1      0  548559  0.012040\n",
       "2      0  379527  0.000155\n",
       "3      0  271422  0.000254\n",
       "4      0  483399  0.000155"
      ]
     },
     "execution_count": 82,
     "metadata": {},
     "output_type": "execute_result"
    }
   ],
   "source": [
    "y_pred_final.head()"
   ]
  },
  {
   "cell_type": "code",
   "execution_count": 83,
   "metadata": {},
   "outputs": [],
   "source": [
    "# Renaming the column \n",
    "y_pred_final= y_pred_final.rename(columns={ 0 : 'Fraud_Prob'})"
   ]
  },
  {
   "cell_type": "code",
   "execution_count": null,
   "metadata": {},
   "outputs": [],
   "source": []
  },
  {
   "cell_type": "code",
   "execution_count": 84,
   "metadata": {},
   "outputs": [
    {
     "data": {
      "text/html": [
       "<div>\n",
       "<style scoped>\n",
       "    .dataframe tbody tr th:only-of-type {\n",
       "        vertical-align: middle;\n",
       "    }\n",
       "\n",
       "    .dataframe tbody tr th {\n",
       "        vertical-align: top;\n",
       "    }\n",
       "\n",
       "    .dataframe thead th {\n",
       "        text-align: right;\n",
       "    }\n",
       "</style>\n",
       "<table border=\"1\" class=\"dataframe\">\n",
       "  <thead>\n",
       "    <tr style=\"text-align: right;\">\n",
       "      <th></th>\n",
       "      <th>fraud</th>\n",
       "      <th>CustID</th>\n",
       "      <th>Fraud_Prob</th>\n",
       "    </tr>\n",
       "  </thead>\n",
       "  <tbody>\n",
       "    <tr>\n",
       "      <th>0</th>\n",
       "      <td>0</td>\n",
       "      <td>482525</td>\n",
       "      <td>0.000254</td>\n",
       "    </tr>\n",
       "    <tr>\n",
       "      <th>1</th>\n",
       "      <td>0</td>\n",
       "      <td>548559</td>\n",
       "      <td>0.012040</td>\n",
       "    </tr>\n",
       "    <tr>\n",
       "      <th>2</th>\n",
       "      <td>0</td>\n",
       "      <td>379527</td>\n",
       "      <td>0.000155</td>\n",
       "    </tr>\n",
       "    <tr>\n",
       "      <th>3</th>\n",
       "      <td>0</td>\n",
       "      <td>271422</td>\n",
       "      <td>0.000254</td>\n",
       "    </tr>\n",
       "    <tr>\n",
       "      <th>4</th>\n",
       "      <td>0</td>\n",
       "      <td>483399</td>\n",
       "      <td>0.000155</td>\n",
       "    </tr>\n",
       "  </tbody>\n",
       "</table>\n",
       "</div>"
      ],
      "text/plain": [
       "   fraud  CustID  Fraud_Prob\n",
       "0      0  482525    0.000254\n",
       "1      0  548559    0.012040\n",
       "2      0  379527    0.000155\n",
       "3      0  271422    0.000254\n",
       "4      0  483399    0.000155"
      ]
     },
     "execution_count": 84,
     "metadata": {},
     "output_type": "execute_result"
    }
   ],
   "source": [
    "# Let's see the head of y_pred_final\n",
    "y_pred_final.head()"
   ]
  },
  {
   "cell_type": "code",
   "execution_count": 85,
   "metadata": {},
   "outputs": [],
   "source": [
    "y_pred_final['final_predicted'] = y_pred_final.Fraud_Prob.map(lambda x: 1 if x > 0.42 else 0)"
   ]
  },
  {
   "cell_type": "code",
   "execution_count": 86,
   "metadata": {},
   "outputs": [
    {
     "data": {
      "text/html": [
       "<div>\n",
       "<style scoped>\n",
       "    .dataframe tbody tr th:only-of-type {\n",
       "        vertical-align: middle;\n",
       "    }\n",
       "\n",
       "    .dataframe tbody tr th {\n",
       "        vertical-align: top;\n",
       "    }\n",
       "\n",
       "    .dataframe thead th {\n",
       "        text-align: right;\n",
       "    }\n",
       "</style>\n",
       "<table border=\"1\" class=\"dataframe\">\n",
       "  <thead>\n",
       "    <tr style=\"text-align: right;\">\n",
       "      <th></th>\n",
       "      <th>fraud</th>\n",
       "      <th>CustID</th>\n",
       "      <th>Fraud_Prob</th>\n",
       "      <th>final_predicted</th>\n",
       "    </tr>\n",
       "  </thead>\n",
       "  <tbody>\n",
       "    <tr>\n",
       "      <th>0</th>\n",
       "      <td>0</td>\n",
       "      <td>482525</td>\n",
       "      <td>0.000254</td>\n",
       "      <td>0</td>\n",
       "    </tr>\n",
       "    <tr>\n",
       "      <th>1</th>\n",
       "      <td>0</td>\n",
       "      <td>548559</td>\n",
       "      <td>0.012040</td>\n",
       "      <td>0</td>\n",
       "    </tr>\n",
       "    <tr>\n",
       "      <th>2</th>\n",
       "      <td>0</td>\n",
       "      <td>379527</td>\n",
       "      <td>0.000155</td>\n",
       "      <td>0</td>\n",
       "    </tr>\n",
       "    <tr>\n",
       "      <th>3</th>\n",
       "      <td>0</td>\n",
       "      <td>271422</td>\n",
       "      <td>0.000254</td>\n",
       "      <td>0</td>\n",
       "    </tr>\n",
       "    <tr>\n",
       "      <th>4</th>\n",
       "      <td>0</td>\n",
       "      <td>483399</td>\n",
       "      <td>0.000155</td>\n",
       "      <td>0</td>\n",
       "    </tr>\n",
       "  </tbody>\n",
       "</table>\n",
       "</div>"
      ],
      "text/plain": [
       "   fraud  CustID  Fraud_Prob  final_predicted\n",
       "0      0  482525    0.000254                0\n",
       "1      0  548559    0.012040                0\n",
       "2      0  379527    0.000155                0\n",
       "3      0  271422    0.000254                0\n",
       "4      0  483399    0.000155                0"
      ]
     },
     "execution_count": 86,
     "metadata": {},
     "output_type": "execute_result"
    }
   ],
   "source": [
    "y_pred_final.head()"
   ]
  },
  {
   "cell_type": "code",
   "execution_count": 88,
   "metadata": {},
   "outputs": [
    {
     "data": {
      "text/plain": [
       "0.9961586325641127"
      ]
     },
     "execution_count": 88,
     "metadata": {},
     "output_type": "execute_result"
    }
   ],
   "source": [
    "# Let's check the overall accuracy.\n",
    "metrics.accuracy_score(y_pred_final.fraud, y_pred_final.final_predicted)"
   ]
  },
  {
   "cell_type": "code",
   "execution_count": 89,
   "metadata": {},
   "outputs": [
    {
     "data": {
      "text/plain": [
       "array([[175284,     14],\n",
       "       [   662,     19]], dtype=int64)"
      ]
     },
     "execution_count": 89,
     "metadata": {},
     "output_type": "execute_result"
    }
   ],
   "source": [
    "confusion2 = metrics.confusion_matrix(y_pred_final.fraud, y_pred_final.final_predicted )\n",
    "confusion2"
   ]
  },
  {
   "cell_type": "code",
   "execution_count": 90,
   "metadata": {},
   "outputs": [],
   "source": [
    "TP = confusion2[1,1] # true positive \n",
    "TN = confusion2[0,0] # true negatives\n",
    "FP = confusion2[0,1] # false positives\n",
    "FN = confusion2[1,0] # false negatives"
   ]
  },
  {
   "cell_type": "code",
   "execution_count": 91,
   "metadata": {},
   "outputs": [
    {
     "data": {
      "text/plain": [
       "0.027900146842878122"
      ]
     },
     "execution_count": 91,
     "metadata": {},
     "output_type": "execute_result"
    }
   ],
   "source": [
    "# Let's see the sensitivity of our logistic regression model\n",
    "TP / float(TP+FN)"
   ]
  },
  {
   "cell_type": "code",
   "execution_count": 92,
   "metadata": {},
   "outputs": [
    {
     "data": {
      "text/plain": [
       "0.999920135996988"
      ]
     },
     "execution_count": 92,
     "metadata": {},
     "output_type": "execute_result"
    }
   ],
   "source": [
    "# Let us calculate specificity\n",
    "TN / float(TN+FP)"
   ]
  },
  {
   "cell_type": "code",
   "execution_count": null,
   "metadata": {},
   "outputs": [],
   "source": []
  }
 ],
 "metadata": {
  "kernelspec": {
   "display_name": "Python 3",
   "language": "python",
   "name": "python3"
  },
  "language_info": {
   "codemirror_mode": {
    "name": "ipython",
    "version": 3
   },
   "file_extension": ".py",
   "mimetype": "text/x-python",
   "name": "python",
   "nbconvert_exporter": "python",
   "pygments_lexer": "ipython3",
   "version": "3.8.5"
  }
 },
 "nbformat": 4,
 "nbformat_minor": 4
}
